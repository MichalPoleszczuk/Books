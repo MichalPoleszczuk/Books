{
 "cells": [
  {
   "cell_type": "markdown",
   "metadata": {},
   "source": [
    "# Acquire Free Financial Market Data with Cutting-Edge Python Libraries"
   ]
  },
  {
   "cell_type": "markdown",
   "metadata": {},
   "source": [
    "In this chapter, the goal is to cover:\n",
    "1. Diving into continuous futures data with Nasdaq Data Link\n",
    "2. Exploring S&P500 ratios data with Nasdaq Data Link\n",
    "3. Working with stock market data with the OpenBB platform \n",
    "4. Fetchning historic futures data with the OpenBB platform \n",
    "5. Navigating options market with the OpenBB platform \n",
    "6. Harnessing factor data using pandas_datareader"
   ]
  },
  {
   "cell_type": "code",
   "execution_count": null,
   "metadata": {},
   "outputs": [],
   "source": []
  }
 ],
 "metadata": {
  "kernelspec": {
   "display_name": "Python 3 (ipykernel)",
   "language": "python",
   "name": "python3"
  },
  "language_info": {
   "codemirror_mode": {
    "name": "ipython",
    "version": 3
   },
   "file_extension": ".py",
   "mimetype": "text/x-python",
   "name": "python",
   "nbconvert_exporter": "python",
   "pygments_lexer": "ipython3",
   "version": "3.9.7"
  }
 },
 "nbformat": 4,
 "nbformat_minor": 2
}
