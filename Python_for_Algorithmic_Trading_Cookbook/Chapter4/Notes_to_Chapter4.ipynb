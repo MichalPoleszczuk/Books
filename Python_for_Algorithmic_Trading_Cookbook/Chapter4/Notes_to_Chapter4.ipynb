{
 "cells": [
  {
   "cell_type": "markdown",
   "id": "43632730",
   "metadata": {},
   "source": [
    "# Store Financial Market Data on your computer"
   ]
  },
  {
   "cell_type": "markdown",
   "id": "e54047f6",
   "metadata": {},
   "source": [
    "In this chapter we present the following:\n",
    "1. Storing data on disk in CSV format\n",
    "2. Storing data on disk with SQLite\n",
    "3. Storing data in a networked Postgres database\n",
    "4. Storing data in ultra-fast HDF5 format"
   ]
  },
  {
   "cell_type": "markdown",
   "id": "b29e3525",
   "metadata": {},
   "source": [
    "### Storing data on disk in CSV format"
   ]
  },
  {
   "cell_type": "code",
   "execution_count": 1,
   "id": "6510d662",
   "metadata": {},
   "outputs": [],
   "source": [
    "# apart from ease of use in Python and its libraries / used in Tabelau, PowerBI, prop systems\n",
    "# since pandas supports writing data to CSV, there are no special libraries required\n",
    "import pandas as pd \n",
    "from openbb import obb\n",
    "obb.user.preferences.output_type = \"dataframe\""
   ]
  },
  {
   "cell_type": "code",
   "execution_count": 2,
   "id": "449644ca",
   "metadata": {},
   "outputs": [],
   "source": [
    "# func to download data, manipulate the results, and return pandas dataframe\n",
    "def get_stock_data(symbol, start_date=None, end_date=None):\n",
    "    data = obb.equity.price.historical(\n",
    "    symbol,\n",
    "    start_date = start_date,\n",
    "    end_date = end_date,\n",
    "    provider=\"yfinance\"\n",
    "    )\n",
    "    data.reset_index(inplace=True)\n",
    "    data['symbol'] = symbol\n",
    "    return data"
   ]
  },
  {
   "cell_type": "code",
   "execution_count": 3,
   "id": "1ed2e07a",
   "metadata": {},
   "outputs": [],
   "source": [
    "# func to save a range of data as a CSV file\n",
    "def save_data_range(symbol, start_date=None, end_date=None):\n",
    "    data = get_stock_data(symbol, start_date, end_date)\n",
    "    data.to_csv(\n",
    "    f\"{symbol}.gz\",\n",
    "    compression=\"gzip\",\n",
    "    index=False\n",
    "    )"
   ]
  },
  {
   "cell_type": "code",
   "execution_count": 4,
   "id": "2a5a5f12",
   "metadata": {},
   "outputs": [],
   "source": [
    "# implementation of a func that reads a csv file and returns a dataframe\n",
    "def get_data(symbol):\n",
    "    return pd.read_csv(\n",
    "        f\"{symbol}.gz\",\n",
    "        compression=\"gzip\",\n",
    "        index_col=\"date\",\n",
    "        usecols=[\n",
    "            \"date\",\n",
    "            \"open\",\n",
    "            \"high\",\n",
    "            \"low\",\n",
    "            \"close\",\n",
    "            \"volume\",\n",
    "            \"symbol\"\n",
    "] )"
   ]
  },
  {
   "cell_type": "code",
   "execution_count": 5,
   "id": "2876b971",
   "metadata": {},
   "outputs": [],
   "source": [
    "# save data as CSV\n",
    "save_data_range(\"PLTR\")"
   ]
  },
  {
   "cell_type": "markdown",
   "id": "4306c01f",
   "metadata": {},
   "source": [
    "### Storing data on disk with SQLite"
   ]
  },
  {
   "cell_type": "code",
   "execution_count": 7,
   "id": "726efeb3",
   "metadata": {},
   "outputs": [],
   "source": [
    "# a bridge between the simplicity of flat files and robustness of relational databases\n",
    "# in this directory I will create script called market_data_sqlite\n",
    "# \"exchange_calendars\" - python package for quering calendars for trading days\n",
    "!pip install exchange_calendars --quiet"
   ]
  },
  {
   "cell_type": "markdown",
   "id": "3e4711fe",
   "metadata": {},
   "source": [
    "## look for market_data_sqlite script in the directory"
   ]
  },
  {
   "cell_type": "code",
   "execution_count": null,
   "id": "6b7d3864",
   "metadata": {},
   "outputs": [],
   "source": []
  }
 ],
 "metadata": {
  "kernelspec": {
   "display_name": "Python 3 (ipykernel)",
   "language": "python",
   "name": "python3"
  },
  "language_info": {
   "codemirror_mode": {
    "name": "ipython",
    "version": 3
   },
   "file_extension": ".py",
   "mimetype": "text/x-python",
   "name": "python",
   "nbconvert_exporter": "python",
   "pygments_lexer": "ipython3",
   "version": "3.11.7"
  }
 },
 "nbformat": 4,
 "nbformat_minor": 5
}
