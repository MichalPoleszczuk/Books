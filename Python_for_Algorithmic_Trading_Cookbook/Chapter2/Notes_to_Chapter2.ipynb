{
 "cells": [
  {
   "cell_type": "markdown",
   "id": "8d99d0c2",
   "metadata": {},
   "source": [
    "# Analyze and Transform Financial Market Data with Pandas"
   ]
  },
  {
   "cell_type": "markdown",
   "id": "a135b36a",
   "metadata": {},
   "source": [
    "In this chapter we'll cover the following recipes:\n",
    "1. Diving into index types\n",
    "2. Building Pandas series and DataFrames \n",
    "3. Manipulating and transforming DataFrames\n",
    "4. Examining and Selecting Data from DataFrames\n",
    "5. Calculating asset returns \n",
    "6. Measuring the volatility of a return series \n",
    "7. Resampling data from different time frames\n",
    "8. Addressing missing data issues\n",
    "9. Applying custom functions to analyse time series data"
   ]
  },
  {
   "cell_type": "code",
   "execution_count": 1,
   "id": "72e894c8",
   "metadata": {},
   "outputs": [],
   "source": [
    "import pandas as pd"
   ]
  },
  {
   "cell_type": "code",
   "execution_count": 2,
   "id": "b8a3bbb3",
   "metadata": {},
   "outputs": [],
   "source": [
    "idx_1 = pd.Index([0,1,2,3,4,5,6,7,8,9])"
   ]
  },
  {
   "cell_type": "code",
   "execution_count": 3,
   "id": "20e5a985",
   "metadata": {},
   "outputs": [
    {
     "data": {
      "text/plain": [
       "Index([0, 1, 2, 3, 4, 5, 6, 7, 8, 9], dtype='int64')"
      ]
     },
     "execution_count": 3,
     "metadata": {},
     "output_type": "execute_result"
    }
   ],
   "source": [
    "idx_1 # as we can see this index is of type Int64Index, which means it's made up of 64-bit integers"
   ]
  },
  {
   "cell_type": "markdown",
   "id": "f4c84909",
   "metadata": {},
   "source": [
    "Pandas has several Index types to support many use cases, including those related to time series analysis. We'll cover examples of the most often used index types"
   ]
  },
  {
   "cell_type": "markdown",
   "id": "828cc854",
   "metadata": {},
   "source": [
    "### DatatimeInndex"
   ]
  },
  {
   "cell_type": "code",
   "execution_count": 5,
   "id": "a7c8099f",
   "metadata": {},
   "outputs": [
    {
     "data": {
      "text/plain": [
       "DatetimeIndex(['2016-01-01', '2016-01-02', '2016-01-03', '2016-01-04',\n",
       "               '2016-01-05', '2016-01-06'],\n",
       "              dtype='datetime64[ns]', freq='D')"
      ]
     },
     "execution_count": 5,
     "metadata": {},
     "output_type": "execute_result"
    }
   ],
   "source": [
    "# extremly useful when dealing with time series data\n",
    "days = pd.date_range(\"2016-01-01\", periods=6, freq=\"D\")\n",
    "days # this creates an index with six incremental datetime objects"
   ]
  },
  {
   "cell_type": "code",
   "execution_count": 7,
   "id": "0b54336e",
   "metadata": {},
   "outputs": [
    {
     "data": {
      "text/plain": [
       "DatetimeIndex(['2016-01-01 00:00:00', '2016-01-01 00:00:01',\n",
       "               '2016-01-01 00:00:02', '2016-01-01 00:00:03',\n",
       "               '2016-01-01 00:00:04', '2016-01-01 00:00:05'],\n",
       "              dtype='datetime64[ns]', freq='S')"
      ]
     },
     "execution_count": 7,
     "metadata": {},
     "output_type": "execute_result"
    }
   ],
   "source": [
    "# we can use different frequencies, including seconds\n",
    "seconds = pd.date_range(\"2016-01-01\", periods=6, freq=\"s\")\n",
    "seconds"
   ]
  },
  {
   "cell_type": "code",
   "execution_count": 9,
   "id": "882a5419",
   "metadata": {},
   "outputs": [
    {
     "data": {
      "text/plain": [
       "DatetimeIndex(['2016-01-01 00:00:00+00:00', '2016-01-01 00:00:01+00:00',\n",
       "               '2016-01-01 00:00:02+00:00', '2016-01-01 00:00:03+00:00',\n",
       "               '2016-01-01 00:00:04+00:00', '2016-01-01 00:00:05+00:00'],\n",
       "              dtype='datetime64[ns, UTC]', freq='S')"
      ]
     },
     "execution_count": 9,
     "metadata": {},
     "output_type": "execute_result"
    }
   ],
   "source": [
    "# by default DatetimeIndexes are \"timezone naive\". To localize:\n",
    "seconds_utc = seconds.tz_localize(\"UTC\")\n",
    "seconds_utc # as we can see, localizing simply appends time zone information to the object"
   ]
  },
  {
   "cell_type": "markdown",
   "id": "a8ffcc6d",
   "metadata": {},
   "source": [
    "### PeriodIndex"
   ]
  },
  {
   "cell_type": "code",
   "execution_count": 10,
   "id": "cc322daf",
   "metadata": {},
   "outputs": [
    {
     "data": {
      "text/plain": [
       "PeriodIndex(['1990Q1', '1990Q2', '1990Q3', '1990Q4', '1991Q1', '1991Q2',\n",
       "             '1991Q3', '1991Q4', '1992Q1', '1992Q2', '1992Q3', '1992Q4',\n",
       "             '1993Q1', '1993Q2', '1993Q3', '1993Q4', '1994Q1', '1994Q2',\n",
       "             '1994Q3', '1994Q4', '1995Q1', '1995Q2', '1995Q3', '1995Q4',\n",
       "             '1996Q1', '1996Q2', '1996Q3', '1996Q4', '1997Q1', '1997Q2',\n",
       "             '1997Q3', '1997Q4', '1998Q1', '1998Q2', '1998Q3', '1998Q4',\n",
       "             '1999Q1', '1999Q2', '1999Q3', '1999Q4', '2000Q1', '2000Q2',\n",
       "             '2000Q3', '2000Q4'],\n",
       "            dtype='period[Q-NOV]')"
      ]
     },
     "execution_count": 10,
     "metadata": {},
     "output_type": "execute_result"
    }
   ],
   "source": [
    "# it's possible to create ranges of periods -> such as quarters using period_range method\n",
    "prng = pd.period_range(\"1990Q1\", \"2000Q4\", freq=\"Q-NOV\")\n",
    "prng"
   ]
  },
  {
   "cell_type": "markdown",
   "id": "e2982510",
   "metadata": {},
   "source": [
    "### MultiIndex"
   ]
  },
  {
   "cell_type": "code",
   "execution_count": 11,
   "id": "4bacb2b5",
   "metadata": {},
   "outputs": [],
   "source": [
    "# often referred as \"hierarchical index\", is a data structure that allows for complex data organization within pandas dataframe and series.\n",
    "# to create a MultiIndex object, pass a list of tuples to the from_tuples method \n",
    "tuples = [\n",
    "    (pd.Timestamp(\"2023-07-10\"), \"WMT\"),\n",
    "    (pd.Timestamp(\"2023-07-10\"), \"JPM\"),\n",
    "    (pd.Timestamp(\"2023-07-10\"), \"TGT\"),\n",
    "    (pd.Timestamp(\"2023-07-11\"), \"WMT\"),\n",
    "    (pd.Timestamp(\"2023-07-11\"), \"JPM\"),\n",
    "    (pd.Timestamp(\"2023-07-11\"), \"TGT\")\n",
    "]\n",
    "\n",
    "midx = pd.MultiIndex.from_tuples(tuples, names=(\"date\",\"symbol\"))"
   ]
  },
  {
   "cell_type": "code",
   "execution_count": null,
   "id": "7b9d67d0",
   "metadata": {},
   "outputs": [],
   "source": []
  }
 ],
 "metadata": {
  "kernelspec": {
   "display_name": "Python 3 (ipykernel)",
   "language": "python",
   "name": "python3"
  },
  "language_info": {
   "codemirror_mode": {
    "name": "ipython",
    "version": 3
   },
   "file_extension": ".py",
   "mimetype": "text/x-python",
   "name": "python",
   "nbconvert_exporter": "python",
   "pygments_lexer": "ipython3",
   "version": "3.11.7"
  }
 },
 "nbformat": 4,
 "nbformat_minor": 5
}
