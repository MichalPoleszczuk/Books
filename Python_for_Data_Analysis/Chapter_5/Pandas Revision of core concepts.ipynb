{
 "cells": [
  {
   "cell_type": "markdown",
   "id": "22f3e798-4694-4d41-bb98-d74d3dee286f",
   "metadata": {},
   "source": [
    "# Getting started with Pandas"
   ]
  },
  {
   "cell_type": "code",
   "execution_count": 2,
   "id": "c7ae049c-416d-4fbf-aa62-3e6be092d0d8",
   "metadata": {},
   "outputs": [],
   "source": [
    "import numpy as np \n",
    "import pandas as pd "
   ]
  },
  {
   "cell_type": "code",
   "execution_count": 8,
   "id": "656680b5-4067-46ae-9cd7-528ba3958f3f",
   "metadata": {},
   "outputs": [
    {
     "data": {
      "text/plain": [
       "0    4\n",
       "1    7\n",
       "2   -5\n",
       "3    3\n",
       "dtype: int64"
      ]
     },
     "execution_count": 8,
     "metadata": {},
     "output_type": "execute_result"
    }
   ],
   "source": [
    "# Series is one-dimentional array-like object containing a sequence of values of the same type and associated array of data labels (index)\n",
    "# the simplest series is formed from only an array of data\n",
    "obj = pd.Series([4,7,-5,3])\n",
    "obj"
   ]
  },
  {
   "cell_type": "code",
   "execution_count": 12,
   "id": "da536d40-fb5d-4ad0-badd-72f3dd098c1c",
   "metadata": {},
   "outputs": [
    {
     "name": "stdout",
     "output_type": "stream",
     "text": [
      "<NumpyExtensionArray>\n",
      "[4, 7, -5, 3]\n",
      "Length: 4, dtype: int64\n",
      "RangeIndex(start=0, stop=4, step=1)\n"
     ]
    }
   ],
   "source": [
    "# we can get array representation and index object of the Series via \"Index\" and \"Array\" methods\n",
    "print(obj.array)\n",
    "print(obj.index)"
   ]
  },
  {
   "cell_type": "code",
   "execution_count": 14,
   "id": "2c85b49e-b3c7-4fb3-8e30-354bb0703234",
   "metadata": {},
   "outputs": [
    {
     "data": {
      "text/plain": [
       "d    4\n",
       "b    7\n",
       "a   -5\n",
       "c    3\n",
       "dtype: int64"
      ]
     },
     "execution_count": 14,
     "metadata": {},
     "output_type": "execute_result"
    }
   ],
   "source": [
    "# often we will want to create a series with an index identifying each data point with a label\n",
    "obj2 = pd.Series([4,7,-5,3], index=[\"d\",\"b\",\"a\",\"c\"])\n",
    "obj2"
   ]
  },
  {
   "cell_type": "code",
   "execution_count": 18,
   "id": "7f0e7626-a6c8-4f3f-b5ec-4249f15d037d",
   "metadata": {},
   "outputs": [
    {
     "data": {
      "text/plain": [
       "Index(['d', 'b', 'a', 'c'], dtype='object')"
      ]
     },
     "execution_count": 18,
     "metadata": {},
     "output_type": "execute_result"
    }
   ],
   "source": [
    "obj2.index # as we can see, it's no longer RangeIndex -> now its Index"
   ]
  },
  {
   "cell_type": "code",
   "execution_count": 26,
   "id": "08000101-e4f0-4ef3-bb8b-13092f059793",
   "metadata": {},
   "outputs": [
    {
     "name": "stdout",
     "output_type": "stream",
     "text": [
      "-5\n",
      "c    3\n",
      "d    4\n",
      "b    7\n",
      "dtype: int64\n"
     ]
    }
   ],
   "source": [
    "# now we can use labels in the index when we want to access elements\n",
    "print(obj2[\"a\"])\n",
    "print(obj2[[\"c\", \"d\", \"b\"]])"
   ]
  },
  {
   "cell_type": "code",
   "execution_count": 28,
   "id": "ad1dea4d-cb7e-4710-a725-b60ce589cb12",
   "metadata": {},
   "outputs": [
    {
     "data": {
      "text/plain": [
       "d    4\n",
       "b    7\n",
       "c    3\n",
       "dtype: int64"
      ]
     },
     "execution_count": 28,
     "metadata": {},
     "output_type": "execute_result"
    }
   ],
   "source": [
    "# using NumPy/NumPy-like operations, such as filtering with a Boolean array or scalar multiplication will preserve the index-value link\n",
    "obj2[obj2>0]"
   ]
  },
  {
   "cell_type": "code",
   "execution_count": 32,
   "id": "41ad56fb-50ec-48c8-8512-9433769087cf",
   "metadata": {},
   "outputs": [
    {
     "data": {
      "text/plain": [
       "d     8\n",
       "b    14\n",
       "a   -10\n",
       "c     6\n",
       "dtype: int64"
      ]
     },
     "execution_count": 32,
     "metadata": {},
     "output_type": "execute_result"
    }
   ],
   "source": [
    "# scalar multiplication example\n",
    "obj2 * 2"
   ]
  },
  {
   "cell_type": "code",
   "execution_count": 34,
   "id": "549fab70-13d9-44f0-89ad-d862ee37822b",
   "metadata": {},
   "outputs": [
    {
     "data": {
      "text/plain": [
       "d      54.598150\n",
       "b    1096.633158\n",
       "a       0.006738\n",
       "c      20.085537\n",
       "dtype: float64"
      ]
     },
     "execution_count": 34,
     "metadata": {},
     "output_type": "execute_result"
    }
   ],
   "source": [
    "np.exp(obj2)"
   ]
  },
  {
   "cell_type": "code",
   "execution_count": 40,
   "id": "4d6f89d7-25e1-479d-94c4-82cde0f9c6de",
   "metadata": {},
   "outputs": [
    {
     "name": "stdout",
     "output_type": "stream",
     "text": [
      "True\n",
      "False\n"
     ]
    }
   ],
   "source": [
    "# another way to think about a Series is a fixed length, ordered dictionary, as it is a mapping of index values to data values\n",
    "print(\"b\" in obj2)\n",
    "print(\"e\" in obj2)"
   ]
  },
  {
   "cell_type": "code",
   "execution_count": 44,
   "id": "1221e4c1-ef22-420f-b19b-e2a499a341c4",
   "metadata": {},
   "outputs": [
    {
     "data": {
      "text/plain": [
       "Ohio      35000\n",
       "Texas     71000\n",
       "Oregon    16000\n",
       "Utah       5000\n",
       "dtype: int64"
      ]
     },
     "execution_count": 44,
     "metadata": {},
     "output_type": "execute_result"
    }
   ],
   "source": [
    "# should you have a python dict, we can create a pandas series by passing it as an argument \n",
    "sdata = {\"Ohio\": 35000, \"Texas\": 71000, \"Oregon\": 16000, \"Utah\": 5000}\n",
    "obj3 = pd.Series(sdata)\n",
    "obj3"
   ]
  },
  {
   "cell_type": "code",
   "execution_count": 48,
   "id": "e4434568-9210-4da9-9a07-18b85fe3372f",
   "metadata": {},
   "outputs": [
    {
     "data": {
      "text/plain": [
       "{'Ohio': 35000, 'Texas': 71000, 'Oregon': 16000, 'Utah': 5000}"
      ]
     },
     "execution_count": 48,
     "metadata": {},
     "output_type": "execute_result"
    }
   ],
   "source": [
    "# a series can be converted back to python dict with the use of \"to_dict\" method\n",
    "converted_series = obj3.to_dict()\n",
    "converted_series"
   ]
  },
  {
   "cell_type": "code",
   "execution_count": 50,
   "id": "b338770d-3311-4b91-b9ad-ff38bd249d34",
   "metadata": {},
   "outputs": [
    {
     "data": {
      "text/plain": [
       "California        NaN\n",
       "Ohio          35000.0\n",
       "Oregon        16000.0\n",
       "Texas         71000.0\n",
       "dtype: float64"
      ]
     },
     "execution_count": 50,
     "metadata": {},
     "output_type": "execute_result"
    }
   ],
   "source": [
    "states = [\"California\", \"Ohio\", \"Oregon\", \"Texas\"]\n",
    "\n",
    "obj4 = pd.Series(sdata, index=states)\n",
    "obj4 # three values found in sdata were placed in appropriate locations"
   ]
  },
  {
   "cell_type": "code",
   "execution_count": 54,
   "id": "95d6bc77-3daa-49f4-9e56-f8281b9701ef",
   "metadata": {},
   "outputs": [
    {
     "name": "stdout",
     "output_type": "stream",
     "text": [
      "California     True\n",
      "Ohio          False\n",
      "Oregon        False\n",
      "Texas         False\n",
      "dtype: bool\n",
      "\n",
      "California    False\n",
      "Ohio           True\n",
      "Oregon         True\n",
      "Texas          True\n",
      "dtype: bool\n"
     ]
    }
   ],
   "source": [
    "# \"isna\" and \"notna\" functions should be used to detect missing data\n",
    "print(pd.isna(obj4))\n",
    "print()\n",
    "print(pd.notna(obj4))"
   ]
  },
  {
   "cell_type": "code",
   "execution_count": 56,
   "id": "feb5a70b-dad0-47fd-b4ca-307d7a0bc06d",
   "metadata": {},
   "outputs": [
    {
     "name": "stdout",
     "output_type": "stream",
     "text": [
      "California     True\n",
      "Ohio          False\n",
      "Oregon        False\n",
      "Texas         False\n",
      "dtype: bool\n",
      "\n",
      "California    False\n",
      "Ohio           True\n",
      "Oregon         True\n",
      "Texas          True\n",
      "dtype: bool\n"
     ]
    }
   ],
   "source": [
    "# Series also has these as instance methods \n",
    "print(obj4.isna())\n",
    "print()\n",
    "print(obj4.notna())"
   ]
  },
  {
   "cell_type": "code",
   "execution_count": 62,
   "id": "a49562fd-0042-4136-a71c-cf54232fa371",
   "metadata": {},
   "outputs": [
    {
     "name": "stdout",
     "output_type": "stream",
     "text": [
      "Ohio      35000\n",
      "Texas     71000\n",
      "Oregon    16000\n",
      "Utah       5000\n",
      "dtype: int64\n",
      "California        NaN\n",
      "Ohio          35000.0\n",
      "Oregon        16000.0\n",
      "Texas         71000.0\n",
      "dtype: float64\n",
      "\n"
     ]
    },
    {
     "data": {
      "text/plain": [
       "California         NaN\n",
       "Ohio           70000.0\n",
       "Oregon         32000.0\n",
       "Texas         142000.0\n",
       "Utah               NaN\n",
       "dtype: float64"
      ]
     },
     "execution_count": 62,
     "metadata": {},
     "output_type": "execute_result"
    }
   ],
   "source": [
    "# a useful Series future is that it automatically alignes by index label in arthmetic operations\n",
    "print(obj3)\n",
    "print(obj4)\n",
    "print()\n",
    "obj3 + obj4 # as we see this is somewhat similar to database join operations"
   ]
  },
  {
   "cell_type": "code",
   "execution_count": 66,
   "id": "2ef6e8c3-92fd-4936-8044-573f94443819",
   "metadata": {},
   "outputs": [],
   "source": [
    "# both the Series object and its Index have attribute \"name\", which itegrates with other pandas functionalities\n",
    "obj4.name = \"Population\"\n",
    "obj4.index.name = \"State\""
   ]
  },
  {
   "cell_type": "code",
   "execution_count": 70,
   "id": "842e2e48-fa02-4c12-834b-70fb03ad80dd",
   "metadata": {},
   "outputs": [
    {
     "name": "stdout",
     "output_type": "stream",
     "text": [
      "Population\n",
      "State\n"
     ]
    }
   ],
   "source": [
    "print(obj4.name)\n",
    "print(obj4.index.name)"
   ]
  },
  {
   "cell_type": "code",
   "execution_count": 74,
   "id": "300006a4-fd21-4402-ae3e-8ffc47b17d40",
   "metadata": {},
   "outputs": [
    {
     "data": {
      "text/plain": [
       "State\n",
       "California        NaN\n",
       "Ohio          35000.0\n",
       "Oregon        16000.0\n",
       "Texas         71000.0\n",
       "Name: Population, dtype: float64"
      ]
     },
     "execution_count": 74,
     "metadata": {},
     "output_type": "execute_result"
    }
   ],
   "source": [
    "obj4 # NOTE name AT THE BOTTOM"
   ]
  },
  {
   "cell_type": "code",
   "execution_count": 78,
   "id": "9d0f7951-7921-4868-84a5-b811e998c4c3",
   "metadata": {},
   "outputs": [
    {
     "name": "stdout",
     "output_type": "stream",
     "text": [
      "0    4\n",
      "1    7\n",
      "2   -5\n",
      "3    3\n",
      "dtype: int64\n",
      "\n"
     ]
    },
    {
     "data": {
      "text/plain": [
       "Piotr      4\n",
       "Michał     7\n",
       "Mikołaj   -5\n",
       "Karol      3\n",
       "dtype: int64"
      ]
     },
     "execution_count": 78,
     "metadata": {},
     "output_type": "execute_result"
    }
   ],
   "source": [
    "# A Series index can be altered in place by assignment\n",
    "print(obj)\n",
    "print()\n",
    "obj.index = [\"Piotr\", \"Michał\", \"Mikołaj\", \"Karol\"]\n",
    "obj"
   ]
  },
  {
   "cell_type": "markdown",
   "id": "7b15327f-d536-4708-b462-d87a84030cac",
   "metadata": {},
   "source": [
    "# DataFrame"
   ]
  },
  {
   "cell_type": "code",
   "execution_count": 83,
   "id": "99d3617b-b96d-432d-989a-5a703a956c3d",
   "metadata": {},
   "outputs": [],
   "source": [
    "# Df represents a rectangular table of data and contains an ordered, named collection of columns, each of which can be of different value type\n",
    "# (numeric, string, boolean, etc.)\n",
    "# DataFrame have both row and column index; it can be thought of as dictionary of Series all sharing the same index"
   ]
  },
  {
   "cell_type": "code",
   "execution_count": 87,
   "id": "d8c48175-f04d-4284-85aa-3737da5fdf01",
   "metadata": {},
   "outputs": [
    {
     "data": {
      "text/html": [
       "<div>\n",
       "<style scoped>\n",
       "    .dataframe tbody tr th:only-of-type {\n",
       "        vertical-align: middle;\n",
       "    }\n",
       "\n",
       "    .dataframe tbody tr th {\n",
       "        vertical-align: top;\n",
       "    }\n",
       "\n",
       "    .dataframe thead th {\n",
       "        text-align: right;\n",
       "    }\n",
       "</style>\n",
       "<table border=\"1\" class=\"dataframe\">\n",
       "  <thead>\n",
       "    <tr style=\"text-align: right;\">\n",
       "      <th></th>\n",
       "      <th>state</th>\n",
       "      <th>year</th>\n",
       "      <th>pop</th>\n",
       "    </tr>\n",
       "  </thead>\n",
       "  <tbody>\n",
       "    <tr>\n",
       "      <th>0</th>\n",
       "      <td>Ohio</td>\n",
       "      <td>2000</td>\n",
       "      <td>1.5</td>\n",
       "    </tr>\n",
       "    <tr>\n",
       "      <th>1</th>\n",
       "      <td>Ohio</td>\n",
       "      <td>2001</td>\n",
       "      <td>1.7</td>\n",
       "    </tr>\n",
       "    <tr>\n",
       "      <th>2</th>\n",
       "      <td>Ohio</td>\n",
       "      <td>2002</td>\n",
       "      <td>3.6</td>\n",
       "    </tr>\n",
       "    <tr>\n",
       "      <th>3</th>\n",
       "      <td>Nevada</td>\n",
       "      <td>2001</td>\n",
       "      <td>2.4</td>\n",
       "    </tr>\n",
       "    <tr>\n",
       "      <th>4</th>\n",
       "      <td>Nevada</td>\n",
       "      <td>2002</td>\n",
       "      <td>2.9</td>\n",
       "    </tr>\n",
       "  </tbody>\n",
       "</table>\n",
       "</div>"
      ],
      "text/plain": [
       "    state  year  pop\n",
       "0    Ohio  2000  1.5\n",
       "1    Ohio  2001  1.7\n",
       "2    Ohio  2002  3.6\n",
       "3  Nevada  2001  2.4\n",
       "4  Nevada  2002  2.9"
      ]
     },
     "execution_count": 87,
     "metadata": {},
     "output_type": "execute_result"
    }
   ],
   "source": [
    "# there are many ways to construct a df but the most common is probably constructing from a dict of equal length lists / numpy arrays\n",
    "data = {\"state\": [\"Ohio\", \"Ohio\", \"Ohio\", \"Nevada\", \"Nevada\", \"Nevada\"],\n",
    "        \"year\": [2000, 2001, 2002, 2001, 2002, 2003],\n",
    "        \"pop\": [1.5, 1.7, 3.6, 2.4, 2.9, 3.2]}\n",
    "\n",
    "frame = pd.DataFrame(data)\n",
    "frame.head()"
   ]
  },
  {
   "cell_type": "code",
   "execution_count": 89,
   "id": "e09ada8b-c9ac-43c9-9d0c-47f3cec326a0",
   "metadata": {},
   "outputs": [
    {
     "data": {
      "text/html": [
       "<div>\n",
       "<style scoped>\n",
       "    .dataframe tbody tr th:only-of-type {\n",
       "        vertical-align: middle;\n",
       "    }\n",
       "\n",
       "    .dataframe tbody tr th {\n",
       "        vertical-align: top;\n",
       "    }\n",
       "\n",
       "    .dataframe thead th {\n",
       "        text-align: right;\n",
       "    }\n",
       "</style>\n",
       "<table border=\"1\" class=\"dataframe\">\n",
       "  <thead>\n",
       "    <tr style=\"text-align: right;\">\n",
       "      <th></th>\n",
       "      <th>pop</th>\n",
       "      <th>year</th>\n",
       "      <th>state</th>\n",
       "    </tr>\n",
       "  </thead>\n",
       "  <tbody>\n",
       "    <tr>\n",
       "      <th>1</th>\n",
       "      <td>1.7</td>\n",
       "      <td>2001</td>\n",
       "      <td>Ohio</td>\n",
       "    </tr>\n",
       "    <tr>\n",
       "      <th>2</th>\n",
       "      <td>3.6</td>\n",
       "      <td>2002</td>\n",
       "      <td>Ohio</td>\n",
       "    </tr>\n",
       "    <tr>\n",
       "      <th>3</th>\n",
       "      <td>2.4</td>\n",
       "      <td>2001</td>\n",
       "      <td>Nevada</td>\n",
       "    </tr>\n",
       "    <tr>\n",
       "      <th>4</th>\n",
       "      <td>2.9</td>\n",
       "      <td>2002</td>\n",
       "      <td>Nevada</td>\n",
       "    </tr>\n",
       "    <tr>\n",
       "      <th>5</th>\n",
       "      <td>3.2</td>\n",
       "      <td>2003</td>\n",
       "      <td>Nevada</td>\n",
       "    </tr>\n",
       "  </tbody>\n",
       "</table>\n",
       "</div>"
      ],
      "text/plain": [
       "   pop  year   state\n",
       "1  1.7  2001    Ohio\n",
       "2  3.6  2002    Ohio\n",
       "3  2.4  2001  Nevada\n",
       "4  2.9  2002  Nevada\n",
       "5  3.2  2003  Nevada"
      ]
     },
     "execution_count": 89,
     "metadata": {},
     "output_type": "execute_result"
    }
   ],
   "source": [
    "# if we specify a sequence of columns, the dataframe columns will be arranged in that order\n",
    "frame = pd.DataFrame(data, columns=[\"pop\", \"year\", \"state\"])\n",
    "frame.tail() # in order to get 5 last elements"
   ]
  },
  {
   "cell_type": "code",
   "execution_count": 91,
   "id": "51bb45c3-bfcd-4579-bdf4-707886862a5e",
   "metadata": {},
   "outputs": [
    {
     "data": {
      "text/html": [
       "<div>\n",
       "<style scoped>\n",
       "    .dataframe tbody tr th:only-of-type {\n",
       "        vertical-align: middle;\n",
       "    }\n",
       "\n",
       "    .dataframe tbody tr th {\n",
       "        vertical-align: top;\n",
       "    }\n",
       "\n",
       "    .dataframe thead th {\n",
       "        text-align: right;\n",
       "    }\n",
       "</style>\n",
       "<table border=\"1\" class=\"dataframe\">\n",
       "  <thead>\n",
       "    <tr style=\"text-align: right;\">\n",
       "      <th></th>\n",
       "      <th>pop</th>\n",
       "      <th>year</th>\n",
       "      <th>state</th>\n",
       "      <th>debt</th>\n",
       "    </tr>\n",
       "  </thead>\n",
       "  <tbody>\n",
       "    <tr>\n",
       "      <th>0</th>\n",
       "      <td>1.5</td>\n",
       "      <td>2000</td>\n",
       "      <td>Ohio</td>\n",
       "      <td>NaN</td>\n",
       "    </tr>\n",
       "    <tr>\n",
       "      <th>1</th>\n",
       "      <td>1.7</td>\n",
       "      <td>2001</td>\n",
       "      <td>Ohio</td>\n",
       "      <td>NaN</td>\n",
       "    </tr>\n",
       "    <tr>\n",
       "      <th>2</th>\n",
       "      <td>3.6</td>\n",
       "      <td>2002</td>\n",
       "      <td>Ohio</td>\n",
       "      <td>NaN</td>\n",
       "    </tr>\n",
       "    <tr>\n",
       "      <th>3</th>\n",
       "      <td>2.4</td>\n",
       "      <td>2001</td>\n",
       "      <td>Nevada</td>\n",
       "      <td>NaN</td>\n",
       "    </tr>\n",
       "    <tr>\n",
       "      <th>4</th>\n",
       "      <td>2.9</td>\n",
       "      <td>2002</td>\n",
       "      <td>Nevada</td>\n",
       "      <td>NaN</td>\n",
       "    </tr>\n",
       "  </tbody>\n",
       "</table>\n",
       "</div>"
      ],
      "text/plain": [
       "   pop  year   state debt\n",
       "0  1.5  2000    Ohio  NaN\n",
       "1  1.7  2001    Ohio  NaN\n",
       "2  3.6  2002    Ohio  NaN\n",
       "3  2.4  2001  Nevada  NaN\n",
       "4  2.9  2002  Nevada  NaN"
      ]
     },
     "execution_count": 91,
     "metadata": {},
     "output_type": "execute_result"
    }
   ],
   "source": [
    "# if we pass a column that isn't contained in the dictionary, it will be displayed as NaNs\n",
    "frame = pd.DataFrame(data, columns=[\"pop\", \"year\", \"state\", \"debt\"])\n",
    "frame.head()"
   ]
  },
  {
   "cell_type": "code",
   "execution_count": 93,
   "id": "d1947f08-2810-463f-92c7-8932361cad09",
   "metadata": {},
   "outputs": [
    {
     "data": {
      "text/plain": [
       "Index(['pop', 'year', 'state', 'debt'], dtype='object')"
      ]
     },
     "execution_count": 93,
     "metadata": {},
     "output_type": "execute_result"
    }
   ],
   "source": [
    "frame.columns"
   ]
  },
  {
   "cell_type": "code",
   "execution_count": 105,
   "id": "abeea283-d39e-413e-b520-8050dc4dd2bd",
   "metadata": {},
   "outputs": [
    {
     "name": "stdout",
     "output_type": "stream",
     "text": [
      "0    2000\n",
      "1    2001\n",
      "2    2002\n",
      "3    2001\n",
      "4    2002\n",
      "5    2003\n",
      "Name: year, dtype: int64\n",
      "\n",
      "0    2000\n",
      "1    2001\n",
      "2    2002\n",
      "3    2001\n",
      "4    2002\n",
      "5    2003\n",
      "Name: year, dtype: int64\n"
     ]
    }
   ],
   "source": [
    "# a column in dataframe can be accessed EITHER BY dictionary-like notation df[\"sth\"] or by \"dot notation\" df.sth\n",
    "print(frame[\"year\"])\n",
    "print()\n",
    "print(frame.year) # NOTE: index is the same as in our df AND Name: atribute was set with the name of the column"
   ]
  },
  {
   "cell_type": "code",
   "execution_count": 113,
   "id": "1017c4d8-a145-4878-9d00-1274de28eba0",
   "metadata": {},
   "outputs": [
    {
     "name": "stdout",
     "output_type": "stream",
     "text": [
      "pop       1.7\n",
      "year     2001\n",
      "state    Ohio\n",
      "debt      NaN\n",
      "Name: 1, dtype: object\n",
      "\n",
      "pop       3.6\n",
      "year     2002\n",
      "state    Ohio\n",
      "debt      NaN\n",
      "Name: 2, dtype: object\n"
     ]
    }
   ],
   "source": [
    "# rows can also be retreived by position or name with \"iloc\" and \"loc\" attributes\n",
    "print(frame.loc[1])\n",
    "print()\n",
    "print(frame.iloc[2])"
   ]
  },
  {
   "cell_type": "code",
   "execution_count": 115,
   "id": "a1cf7d95-25ab-446d-a23f-45a6b339a3f5",
   "metadata": {},
   "outputs": [
    {
     "data": {
      "text/html": [
       "<div>\n",
       "<style scoped>\n",
       "    .dataframe tbody tr th:only-of-type {\n",
       "        vertical-align: middle;\n",
       "    }\n",
       "\n",
       "    .dataframe tbody tr th {\n",
       "        vertical-align: top;\n",
       "    }\n",
       "\n",
       "    .dataframe thead th {\n",
       "        text-align: right;\n",
       "    }\n",
       "</style>\n",
       "<table border=\"1\" class=\"dataframe\">\n",
       "  <thead>\n",
       "    <tr style=\"text-align: right;\">\n",
       "      <th></th>\n",
       "      <th>pop</th>\n",
       "      <th>year</th>\n",
       "      <th>state</th>\n",
       "      <th>debt</th>\n",
       "    </tr>\n",
       "  </thead>\n",
       "  <tbody>\n",
       "    <tr>\n",
       "      <th>0</th>\n",
       "      <td>1.5</td>\n",
       "      <td>2000</td>\n",
       "      <td>Ohio</td>\n",
       "      <td>16.5</td>\n",
       "    </tr>\n",
       "    <tr>\n",
       "      <th>1</th>\n",
       "      <td>1.7</td>\n",
       "      <td>2001</td>\n",
       "      <td>Ohio</td>\n",
       "      <td>16.5</td>\n",
       "    </tr>\n",
       "    <tr>\n",
       "      <th>2</th>\n",
       "      <td>3.6</td>\n",
       "      <td>2002</td>\n",
       "      <td>Ohio</td>\n",
       "      <td>16.5</td>\n",
       "    </tr>\n",
       "    <tr>\n",
       "      <th>3</th>\n",
       "      <td>2.4</td>\n",
       "      <td>2001</td>\n",
       "      <td>Nevada</td>\n",
       "      <td>16.5</td>\n",
       "    </tr>\n",
       "    <tr>\n",
       "      <th>4</th>\n",
       "      <td>2.9</td>\n",
       "      <td>2002</td>\n",
       "      <td>Nevada</td>\n",
       "      <td>16.5</td>\n",
       "    </tr>\n",
       "    <tr>\n",
       "      <th>5</th>\n",
       "      <td>3.2</td>\n",
       "      <td>2003</td>\n",
       "      <td>Nevada</td>\n",
       "      <td>16.5</td>\n",
       "    </tr>\n",
       "  </tbody>\n",
       "</table>\n",
       "</div>"
      ],
      "text/plain": [
       "   pop  year   state  debt\n",
       "0  1.5  2000    Ohio  16.5\n",
       "1  1.7  2001    Ohio  16.5\n",
       "2  3.6  2002    Ohio  16.5\n",
       "3  2.4  2001  Nevada  16.5\n",
       "4  2.9  2002  Nevada  16.5\n",
       "5  3.2  2003  Nevada  16.5"
      ]
     },
     "execution_count": 115,
     "metadata": {},
     "output_type": "execute_result"
    }
   ],
   "source": [
    "# Columns can be modified by assignment. We could for example assign \"debt\" a scalar value or an entire array of values\n",
    "frame.debt = 16.5\n",
    "frame"
   ]
  },
  {
   "cell_type": "code",
   "execution_count": 123,
   "id": "b55607e5-d83f-4a4b-a2ce-b47f2c018156",
   "metadata": {},
   "outputs": [
    {
     "data": {
      "text/html": [
       "<div>\n",
       "<style scoped>\n",
       "    .dataframe tbody tr th:only-of-type {\n",
       "        vertical-align: middle;\n",
       "    }\n",
       "\n",
       "    .dataframe tbody tr th {\n",
       "        vertical-align: top;\n",
       "    }\n",
       "\n",
       "    .dataframe thead th {\n",
       "        text-align: right;\n",
       "    }\n",
       "</style>\n",
       "<table border=\"1\" class=\"dataframe\">\n",
       "  <thead>\n",
       "    <tr style=\"text-align: right;\">\n",
       "      <th></th>\n",
       "      <th>pop</th>\n",
       "      <th>year</th>\n",
       "      <th>state</th>\n",
       "      <th>debt</th>\n",
       "    </tr>\n",
       "  </thead>\n",
       "  <tbody>\n",
       "    <tr>\n",
       "      <th>0</th>\n",
       "      <td>1.5</td>\n",
       "      <td>2000</td>\n",
       "      <td>Ohio</td>\n",
       "      <td>0</td>\n",
       "    </tr>\n",
       "    <tr>\n",
       "      <th>1</th>\n",
       "      <td>1.7</td>\n",
       "      <td>2001</td>\n",
       "      <td>Ohio</td>\n",
       "      <td>1</td>\n",
       "    </tr>\n",
       "    <tr>\n",
       "      <th>2</th>\n",
       "      <td>3.6</td>\n",
       "      <td>2002</td>\n",
       "      <td>Ohio</td>\n",
       "      <td>2</td>\n",
       "    </tr>\n",
       "    <tr>\n",
       "      <th>3</th>\n",
       "      <td>2.4</td>\n",
       "      <td>2001</td>\n",
       "      <td>Nevada</td>\n",
       "      <td>3</td>\n",
       "    </tr>\n",
       "    <tr>\n",
       "      <th>4</th>\n",
       "      <td>2.9</td>\n",
       "      <td>2002</td>\n",
       "      <td>Nevada</td>\n",
       "      <td>4</td>\n",
       "    </tr>\n",
       "    <tr>\n",
       "      <th>5</th>\n",
       "      <td>3.2</td>\n",
       "      <td>2003</td>\n",
       "      <td>Nevada</td>\n",
       "      <td>5</td>\n",
       "    </tr>\n",
       "  </tbody>\n",
       "</table>\n",
       "</div>"
      ],
      "text/plain": [
       "   pop  year   state  debt\n",
       "0  1.5  2000    Ohio     0\n",
       "1  1.7  2001    Ohio     1\n",
       "2  3.6  2002    Ohio     2\n",
       "3  2.4  2001  Nevada     3\n",
       "4  2.9  2002  Nevada     4\n",
       "5  3.2  2003  Nevada     5"
      ]
     },
     "execution_count": 123,
     "metadata": {},
     "output_type": "execute_result"
    }
   ],
   "source": [
    "frame.debt = np.arange(len(frame))\n",
    "frame"
   ]
  },
  {
   "cell_type": "code",
   "execution_count": 131,
   "id": "b59e6468-9d64-4d6d-8b49-ee325f347a63",
   "metadata": {},
   "outputs": [
    {
     "data": {
      "text/html": [
       "<div>\n",
       "<style scoped>\n",
       "    .dataframe tbody tr th:only-of-type {\n",
       "        vertical-align: middle;\n",
       "    }\n",
       "\n",
       "    .dataframe tbody tr th {\n",
       "        vertical-align: top;\n",
       "    }\n",
       "\n",
       "    .dataframe thead th {\n",
       "        text-align: right;\n",
       "    }\n",
       "</style>\n",
       "<table border=\"1\" class=\"dataframe\">\n",
       "  <thead>\n",
       "    <tr style=\"text-align: right;\">\n",
       "      <th></th>\n",
       "      <th>pop</th>\n",
       "      <th>year</th>\n",
       "      <th>state</th>\n",
       "      <th>debt</th>\n",
       "    </tr>\n",
       "  </thead>\n",
       "  <tbody>\n",
       "    <tr>\n",
       "      <th>0</th>\n",
       "      <td>1.5</td>\n",
       "      <td>2000</td>\n",
       "      <td>Ohio</td>\n",
       "      <td>NaN</td>\n",
       "    </tr>\n",
       "    <tr>\n",
       "      <th>1</th>\n",
       "      <td>1.7</td>\n",
       "      <td>2001</td>\n",
       "      <td>Ohio</td>\n",
       "      <td>NaN</td>\n",
       "    </tr>\n",
       "    <tr>\n",
       "      <th>2</th>\n",
       "      <td>3.6</td>\n",
       "      <td>2002</td>\n",
       "      <td>Ohio</td>\n",
       "      <td>-1.2</td>\n",
       "    </tr>\n",
       "    <tr>\n",
       "      <th>3</th>\n",
       "      <td>2.4</td>\n",
       "      <td>2001</td>\n",
       "      <td>Nevada</td>\n",
       "      <td>NaN</td>\n",
       "    </tr>\n",
       "    <tr>\n",
       "      <th>4</th>\n",
       "      <td>2.9</td>\n",
       "      <td>2002</td>\n",
       "      <td>Nevada</td>\n",
       "      <td>-1.5</td>\n",
       "    </tr>\n",
       "    <tr>\n",
       "      <th>5</th>\n",
       "      <td>3.2</td>\n",
       "      <td>2003</td>\n",
       "      <td>Nevada</td>\n",
       "      <td>-1.7</td>\n",
       "    </tr>\n",
       "  </tbody>\n",
       "</table>\n",
       "</div>"
      ],
      "text/plain": [
       "   pop  year   state  debt\n",
       "0  1.5  2000    Ohio   NaN\n",
       "1  1.7  2001    Ohio   NaN\n",
       "2  3.6  2002    Ohio  -1.2\n",
       "3  2.4  2001  Nevada   NaN\n",
       "4  2.9  2002  Nevada  -1.5\n",
       "5  3.2  2003  Nevada  -1.7"
      ]
     },
     "execution_count": 131,
     "metadata": {},
     "output_type": "execute_result"
    }
   ],
   "source": [
    "# If you assign a Series, its labels will be realigned exactly to the DataFrame’s index, inserting missing values in any index values not present\n",
    "val = pd.Series([-1.2, -1.5, -1.7], index=[2,4,5])\n",
    "frame['debt'] = val\n",
    "frame"
   ]
  },
  {
   "cell_type": "code",
   "execution_count": null,
   "id": "27f31d74-c3c1-48d8-9787-ded540e8e88a",
   "metadata": {},
   "outputs": [],
   "source": []
  }
 ],
 "metadata": {
  "kernelspec": {
   "display_name": "Python 3 (ipykernel)",
   "language": "python",
   "name": "python3"
  },
  "language_info": {
   "codemirror_mode": {
    "name": "ipython",
    "version": 3
   },
   "file_extension": ".py",
   "mimetype": "text/x-python",
   "name": "python",
   "nbconvert_exporter": "python",
   "pygments_lexer": "ipython3",
   "version": "3.12.7"
  }
 },
 "nbformat": 4,
 "nbformat_minor": 5
}
