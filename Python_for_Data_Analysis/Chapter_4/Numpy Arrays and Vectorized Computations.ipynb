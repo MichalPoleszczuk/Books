{
 "cells": [
  {
   "cell_type": "markdown",
   "id": "2aa746c6",
   "metadata": {},
   "source": [
    "*In Numpy we'll find:*\n",
    "- ndarray, an efficient multidimentional array providing fast array-oriented arithmetic operations and flexible broadcasting capabilities\n",
    "- Mathematical functions for fast operations on entire arrays of data without having to write loops\n",
    "- Tools for reading/writing array data to disk and working with memory-mapped files\n",
    "- Linear Algebra, random number generation, and Fourier transform capabilities\n",
    "- A C API for connecting Numpy with libraries written in C, C++, or Fortran "
   ]
  },
  {
   "cell_type": "code",
   "execution_count": 2,
   "id": "b1399485",
   "metadata": {},
   "outputs": [
    {
     "name": "stdout",
     "output_type": "stream",
     "text": [
      "Python list size: 104 bytes\n",
      "Memory per element (Python list): 28 bytes\n",
      "NumPy array size: 40 bytes\n"
     ]
    }
   ],
   "source": [
    "import numpy as np\n",
    "import sys\n",
    "\n",
    "# Python list\n",
    "py_list = [1, 2, 3, 4, 5, 6]\n",
    "print(f\"Python list size: {sys.getsizeof(py_list)} bytes\")  # Memory used by the list object\n",
    "print(f\"Memory per element (Python list): {sys.getsizeof(py_list[0])} bytes\")  # Memory per element\n",
    "\n",
    "# NumPy array\n",
    "np_array = np.array([1, 2, 3, 4, 5])\n",
    "print(f\"NumPy array size: {np_array.nbytes} bytes\")  # Total memory used by the array\n"
   ]
  },
  {
   "cell_type": "markdown",
   "id": "0bc73d12",
   "metadata": {},
   "source": [
    "### The numpy ndarray"
   ]
  },
  {
   "cell_type": "code",
   "execution_count": 3,
   "id": "b7064bba",
   "metadata": {},
   "outputs": [
    {
     "data": {
      "text/plain": [
       "array([[ 1.5, -0.1,  3. ],\n",
       "       [ 0. , -3. ,  6.5]])"
      ]
     },
     "execution_count": 3,
     "metadata": {},
     "output_type": "execute_result"
    }
   ],
   "source": [
    "import numpy as np\n",
    "data = np.array([[1.5, -0.1, 3], [0, -3, 6.5]])\n",
    "data"
   ]
  },
  {
   "cell_type": "code",
   "execution_count": 5,
   "id": "8609d917",
   "metadata": {},
   "outputs": [
    {
     "data": {
      "text/plain": [
       "array([[ 15.,  -1.,  30.],\n",
       "       [  0., -30.,  65.]])"
      ]
     },
     "execution_count": 5,
     "metadata": {},
     "output_type": "execute_result"
    }
   ],
   "source": [
    "#scalar multiplication \n",
    "data * 10"
   ]
  },
  {
   "cell_type": "code",
   "execution_count": 6,
   "id": "3f6af327",
   "metadata": {},
   "outputs": [
    {
     "data": {
      "text/plain": [
       "array([[ 3. , -0.2,  6. ],\n",
       "       [ 0. , -6. , 13. ]])"
      ]
     },
     "execution_count": 6,
     "metadata": {},
     "output_type": "execute_result"
    }
   ],
   "source": [
    "#vectorized addition\n",
    "data + data"
   ]
  },
  {
   "cell_type": "code",
   "execution_count": 9,
   "id": "1a7920b6",
   "metadata": {},
   "outputs": [
    {
     "data": {
      "text/plain": [
       "(2, 3)"
      ]
     },
     "execution_count": 9,
     "metadata": {},
     "output_type": "execute_result"
    }
   ],
   "source": [
    "# every array has a \"shape\", which is a tuple indicating the size of each dimention\n",
    "data.shape"
   ]
  },
  {
   "cell_type": "code",
   "execution_count": 11,
   "id": "167efbed",
   "metadata": {},
   "outputs": [
    {
     "data": {
      "text/plain": [
       "dtype('float64')"
      ]
     },
     "execution_count": 11,
     "metadata": {},
     "output_type": "execute_result"
    }
   ],
   "source": [
    "# numpy arrays are homegenous (of the same type) -> \"dtype\" helps us chech that type\n",
    "data.dtype"
   ]
  },
  {
   "cell_type": "code",
   "execution_count": 12,
   "id": "411d52b5",
   "metadata": {},
   "outputs": [
    {
     "data": {
      "text/plain": [
       "array([6. , 7.5, 8. , 0. , 1. ])"
      ]
     },
     "execution_count": 12,
     "metadata": {},
     "output_type": "execute_result"
    }
   ],
   "source": [
    "# creating ndarray\n",
    "data1 = [6, 7.5, 8, 0, 1]\n",
    "arr1 = np.array(data1)\n",
    "arr1"
   ]
  },
  {
   "cell_type": "code",
   "execution_count": 13,
   "id": "f7cdd46d",
   "metadata": {},
   "outputs": [
    {
     "data": {
      "text/plain": [
       "array([[1, 2, 3, 4],\n",
       "       [5, 6, 7, 8]])"
      ]
     },
     "execution_count": 13,
     "metadata": {},
     "output_type": "execute_result"
    }
   ],
   "source": [
    "# nested sequences, like a list of equal-length lists, will be converted into a multidimensional array\n",
    "data2 = [[1, 2, 3, 4], [5, 6, 7, 8]]\n",
    "arr2 = np.array(data2)\n",
    "arr2"
   ]
  },
  {
   "cell_type": "code",
   "execution_count": 15,
   "id": "a4ca3f99",
   "metadata": {},
   "outputs": [
    {
     "name": "stdout",
     "output_type": "stream",
     "text": [
      "Number of dimentions in our array: 2\n",
      "Tuple portraying shape of our array:  (2, 4)\n"
     ]
    }
   ],
   "source": [
    "# naturally, since we have created numpy object from a list of lists, our array will have two dimentions.\n",
    "# Let's check that with \"ndim\"\n",
    "print(f\"Number of dimentions in our array: {arr2.ndim}\")\n",
    "print(f\"Tuple portraying shape of our array:  {arr2.shape}\")"
   ]
  },
  {
   "cell_type": "markdown",
   "id": "8aea0b6d",
   "metadata": {},
   "source": [
    "Unless explicitly specified, numpy.array tries to infer a good data type for the array that it creates. The data type is stored in a special dtype metadata object."
   ]
  },
  {
   "cell_type": "code",
   "execution_count": 18,
   "id": "c174b6b0",
   "metadata": {},
   "outputs": [
    {
     "name": "stdout",
     "output_type": "stream",
     "text": [
      "float64\n",
      "int64\n"
     ]
    }
   ],
   "source": [
    "print(arr1.dtype)\n",
    "print(arr2.dtype)"
   ]
  },
  {
   "cell_type": "code",
   "execution_count": 19,
   "id": "11b4d0fc",
   "metadata": {},
   "outputs": [
    {
     "data": {
      "text/plain": [
       "array([0., 0., 0., 0., 0., 0., 0., 0., 0., 0.])"
      ]
     },
     "execution_count": 19,
     "metadata": {},
     "output_type": "execute_result"
    }
   ],
   "source": [
    "# in addition to numpy.array there are other functions for creating new arrays\n",
    "np.zeros(10)"
   ]
  },
  {
   "cell_type": "code",
   "execution_count": 20,
   "id": "5d1c8ba7",
   "metadata": {},
   "outputs": [
    {
     "data": {
      "text/plain": [
       "array([[0., 0., 0., 0., 0., 0.],\n",
       "       [0., 0., 0., 0., 0., 0.],\n",
       "       [0., 0., 0., 0., 0., 0.]])"
      ]
     },
     "execution_count": 20,
     "metadata": {},
     "output_type": "execute_result"
    }
   ],
   "source": [
    "np.zeros((3,6))"
   ]
  },
  {
   "cell_type": "code",
   "execution_count": 22,
   "id": "7bf55985",
   "metadata": {},
   "outputs": [
    {
     "data": {
      "text/plain": [
       "array([[[0., 0.],\n",
       "        [0., 0.],\n",
       "        [0., 0.]],\n",
       "\n",
       "       [[0., 0.],\n",
       "        [0., 0.],\n",
       "        [0., 0.]]])"
      ]
     },
     "execution_count": 22,
     "metadata": {},
     "output_type": "execute_result"
    }
   ],
   "source": [
    "?np.empty\n",
    "np.empty((2,3,2))"
   ]
  },
  {
   "cell_type": "markdown",
   "id": "f737f898",
   "metadata": {},
   "source": [
    "It’s not safe to assume that numpy.empty will return an array of all zeros. This function returns uninitialized memory and thus may contain nonzero \"garbage\" values. You should use this function only if you intend to populate the new array with data."
   ]
  },
  {
   "cell_type": "code",
   "execution_count": 26,
   "id": "831a31a9",
   "metadata": {},
   "outputs": [
    {
     "data": {
      "text/plain": [
       "array([ 0,  1,  2,  3,  4,  5,  6,  7,  8,  9, 10, 11, 12, 13, 14])"
      ]
     },
     "execution_count": 26,
     "metadata": {},
     "output_type": "execute_result"
    }
   ],
   "source": [
    "# numpy.arange is an array-valued version of the python range function\n",
    "np.arange(15)"
   ]
  },
  {
   "cell_type": "code",
   "execution_count": null,
   "id": "c87fc2b4",
   "metadata": {},
   "outputs": [],
   "source": []
  }
 ],
 "metadata": {
  "kernelspec": {
   "display_name": "Python 3 (ipykernel)",
   "language": "python",
   "name": "python3"
  },
  "language_info": {
   "codemirror_mode": {
    "name": "ipython",
    "version": 3
   },
   "file_extension": ".py",
   "mimetype": "text/x-python",
   "name": "python",
   "nbconvert_exporter": "python",
   "pygments_lexer": "ipython3",
   "version": "3.11.7"
  }
 },
 "nbformat": 4,
 "nbformat_minor": 5
}
