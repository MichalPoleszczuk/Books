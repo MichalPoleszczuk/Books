{
 "cells": [
  {
   "cell_type": "markdown",
   "id": "a2ec938b",
   "metadata": {},
   "source": [
    "*In Numpy we'll find:*\n",
    "- ndarray, an efficient multidimentional array providing fast array-oriented arithmetic operations and flexible broadcasting capabilities\n",
    "- Mathematical functions for fast operations on entire arrays of data without having to write loops\n",
    "- Tools for reading/writing array data to disk and working with memory-mapped files\n",
    "- Linear Algebra, random number generation, and Fourier transform capabilities\n",
    "- A C API for connecting Numpy with libraries written in C, C++, or Fortran "
   ]
  },
  {
   "cell_type": "code",
   "execution_count": 2,
   "id": "58690abc",
   "metadata": {},
   "outputs": [
    {
     "name": "stdout",
     "output_type": "stream",
     "text": [
      "Python list size: 104 bytes\n",
      "Memory per element (Python list): 28 bytes\n",
      "NumPy array size: 40 bytes\n"
     ]
    }
   ],
   "source": [
    "import numpy as np\n",
    "import sys\n",
    "\n",
    "# Python list\n",
    "py_list = [1, 2, 3, 4, 5, 6]\n",
    "print(f\"Python list size: {sys.getsizeof(py_list)} bytes\")  # Memory used by the list object\n",
    "print(f\"Memory per element (Python list): {sys.getsizeof(py_list[0])} bytes\")  # Memory per element\n",
    "\n",
    "# NumPy array\n",
    "np_array = np.array([1, 2, 3, 4, 5])\n",
    "print(f\"NumPy array size: {np_array.nbytes} bytes\")  # Total memory used by the array\n"
   ]
  },
  {
   "cell_type": "markdown",
   "id": "f28ca835",
   "metadata": {},
   "source": [
    "### The numpy ndarray"
   ]
  },
  {
   "cell_type": "code",
   "execution_count": 3,
   "id": "e7112f2d",
   "metadata": {},
   "outputs": [
    {
     "data": {
      "text/plain": [
       "array([[ 1.5, -0.1,  3. ],\n",
       "       [ 0. , -3. ,  6.5]])"
      ]
     },
     "execution_count": 3,
     "metadata": {},
     "output_type": "execute_result"
    }
   ],
   "source": [
    "import numpy as np\n",
    "data = np.array([[1.5, -0.1, 3], [0, -3, 6.5]])\n",
    "data"
   ]
  },
  {
   "cell_type": "code",
   "execution_count": 5,
   "id": "c84cc751",
   "metadata": {},
   "outputs": [
    {
     "data": {
      "text/plain": [
       "array([[ 15.,  -1.,  30.],\n",
       "       [  0., -30.,  65.]])"
      ]
     },
     "execution_count": 5,
     "metadata": {},
     "output_type": "execute_result"
    }
   ],
   "source": [
    "#scalar multiplication \n",
    "data * 10"
   ]
  },
  {
   "cell_type": "code",
   "execution_count": 6,
   "id": "836a3ce6",
   "metadata": {},
   "outputs": [
    {
     "data": {
      "text/plain": [
       "array([[ 3. , -0.2,  6. ],\n",
       "       [ 0. , -6. , 13. ]])"
      ]
     },
     "execution_count": 6,
     "metadata": {},
     "output_type": "execute_result"
    }
   ],
   "source": [
    "#vectorized addition\n",
    "data + data"
   ]
  },
  {
   "cell_type": "code",
   "execution_count": 9,
   "id": "d50347c8",
   "metadata": {},
   "outputs": [
    {
     "data": {
      "text/plain": [
       "(2, 3)"
      ]
     },
     "execution_count": 9,
     "metadata": {},
     "output_type": "execute_result"
    }
   ],
   "source": [
    "# every array has a \"shape\", which is a tuple indicating the size of each dimention\n",
    "data.shape"
   ]
  },
  {
   "cell_type": "code",
   "execution_count": 11,
   "id": "b26faff2",
   "metadata": {},
   "outputs": [
    {
     "data": {
      "text/plain": [
       "dtype('float64')"
      ]
     },
     "execution_count": 11,
     "metadata": {},
     "output_type": "execute_result"
    }
   ],
   "source": [
    "# numpy arrays are homegenous (of the same type) -> \"dtype\" helps us chech that type\n",
    "data.dtype"
   ]
  },
  {
   "cell_type": "code",
   "execution_count": 12,
   "id": "b8c24148",
   "metadata": {},
   "outputs": [
    {
     "data": {
      "text/plain": [
       "array([6. , 7.5, 8. , 0. , 1. ])"
      ]
     },
     "execution_count": 12,
     "metadata": {},
     "output_type": "execute_result"
    }
   ],
   "source": [
    "# creating ndarray\n",
    "data1 = [6, 7.5, 8, 0, 1]\n",
    "arr1 = np.array(data1)\n",
    "arr1"
   ]
  },
  {
   "cell_type": "code",
   "execution_count": 13,
   "id": "5d6d2747",
   "metadata": {},
   "outputs": [
    {
     "data": {
      "text/plain": [
       "array([[1, 2, 3, 4],\n",
       "       [5, 6, 7, 8]])"
      ]
     },
     "execution_count": 13,
     "metadata": {},
     "output_type": "execute_result"
    }
   ],
   "source": [
    "# nested sequences, like a list of equal-length lists, will be converted into a multidimensional array\n",
    "data2 = [[1, 2, 3, 4], [5, 6, 7, 8]]\n",
    "arr2 = np.array(data2)\n",
    "arr2"
   ]
  },
  {
   "cell_type": "code",
   "execution_count": 15,
   "id": "295e7620",
   "metadata": {},
   "outputs": [
    {
     "name": "stdout",
     "output_type": "stream",
     "text": [
      "Number of dimentions in our array: 2\n",
      "Tuple portraying shape of our array:  (2, 4)\n"
     ]
    }
   ],
   "source": [
    "# naturally, since we have created numpy object from a list of lists, our array will have two dimentions.\n",
    "# Let's check that with \"ndim\"\n",
    "print(f\"Number of dimentions in our array: {arr2.ndim}\")\n",
    "print(f\"Tuple portraying shape of our array:  {arr2.shape}\")"
   ]
  },
  {
   "cell_type": "markdown",
   "id": "23e3f37e",
   "metadata": {},
   "source": [
    "Unless explicitly specified, numpy.array tries to infer a good data type for the array that it creates. The data type is stored in a special dtype metadata object."
   ]
  },
  {
   "cell_type": "code",
   "execution_count": 18,
   "id": "23952d6d",
   "metadata": {},
   "outputs": [
    {
     "name": "stdout",
     "output_type": "stream",
     "text": [
      "float64\n",
      "int64\n"
     ]
    }
   ],
   "source": [
    "print(arr1.dtype)\n",
    "print(arr2.dtype)"
   ]
  },
  {
   "cell_type": "code",
   "execution_count": 19,
   "id": "9dd01d58",
   "metadata": {},
   "outputs": [
    {
     "data": {
      "text/plain": [
       "array([0., 0., 0., 0., 0., 0., 0., 0., 0., 0.])"
      ]
     },
     "execution_count": 19,
     "metadata": {},
     "output_type": "execute_result"
    }
   ],
   "source": [
    "# in addition to numpy.array there are other functions for creating new arrays\n",
    "np.zeros(10)"
   ]
  },
  {
   "cell_type": "code",
   "execution_count": 20,
   "id": "5629b2f5",
   "metadata": {},
   "outputs": [
    {
     "data": {
      "text/plain": [
       "array([[0., 0., 0., 0., 0., 0.],\n",
       "       [0., 0., 0., 0., 0., 0.],\n",
       "       [0., 0., 0., 0., 0., 0.]])"
      ]
     },
     "execution_count": 20,
     "metadata": {},
     "output_type": "execute_result"
    }
   ],
   "source": [
    "np.zeros((3,6))"
   ]
  },
  {
   "cell_type": "code",
   "execution_count": 22,
   "id": "da94ee09",
   "metadata": {},
   "outputs": [
    {
     "data": {
      "text/plain": [
       "array([[[0., 0.],\n",
       "        [0., 0.],\n",
       "        [0., 0.]],\n",
       "\n",
       "       [[0., 0.],\n",
       "        [0., 0.],\n",
       "        [0., 0.]]])"
      ]
     },
     "execution_count": 22,
     "metadata": {},
     "output_type": "execute_result"
    }
   ],
   "source": [
    "?np.empty\n",
    "np.empty((2,3,2))"
   ]
  },
  {
   "cell_type": "markdown",
   "id": "6bc0caa8",
   "metadata": {},
   "source": [
    "It’s not safe to assume that numpy.empty will return an array of all zeros. This function returns uninitialized memory and thus may contain nonzero \"garbage\" values. You should use this function only if you intend to populate the new array with data."
   ]
  },
  {
   "cell_type": "code",
   "execution_count": 26,
   "id": "3736c2c0",
   "metadata": {},
   "outputs": [
    {
     "data": {
      "text/plain": [
       "array([ 0,  1,  2,  3,  4,  5,  6,  7,  8,  9, 10, 11, 12, 13, 14])"
      ]
     },
     "execution_count": 26,
     "metadata": {},
     "output_type": "execute_result"
    }
   ],
   "source": [
    "# numpy.arange is an array-valued version of the python range function\n",
    "np.arange(15)"
   ]
  },
  {
   "cell_type": "markdown",
   "id": "911f95e5",
   "metadata": {},
   "source": [
    "## Working with JSON"
   ]
  },
  {
   "cell_type": "code",
   "execution_count": 27,
   "id": "73c795fb",
   "metadata": {},
   "outputs": [],
   "source": [
    "import json"
   ]
  },
  {
   "cell_type": "code",
   "execution_count": 28,
   "id": "a6380ecd",
   "metadata": {},
   "outputs": [],
   "source": [
    "person = '{\"name\": \"Alice\", \"Languages\": [\"english\", \"french\"]}'"
   ]
  },
  {
   "cell_type": "code",
   "execution_count": 30,
   "id": "d1180621",
   "metadata": {},
   "outputs": [],
   "source": [
    "person_dict = json.loads(person)"
   ]
  },
  {
   "cell_type": "code",
   "execution_count": 31,
   "id": "0c243648",
   "metadata": {},
   "outputs": [
    {
     "data": {
      "text/plain": [
       "{'name': 'Alice', 'Languages': ['english', 'french']}"
      ]
     },
     "execution_count": 31,
     "metadata": {},
     "output_type": "execute_result"
    }
   ],
   "source": [
    "person_dict"
   ]
  },
  {
   "cell_type": "code",
   "execution_count": 37,
   "id": "24ca1d28",
   "metadata": {},
   "outputs": [
    {
     "data": {
      "text/plain": [
       "{'name': 'Alice', 'languages': ['english', 'french']}"
      ]
     },
     "execution_count": 37,
     "metadata": {},
     "output_type": "execute_result"
    }
   ],
   "source": [
    "# we can use \"load\" function in order to read json from existing file\n",
    "with open('/Users/dorotamisztal-poleszczuk/Desktop/Michał chwilowy/Books/Python_for_Data_Analysis/Chapter_4/person.json', 'r') as f:\n",
    "    data = json.load(f)\n",
    "\n",
    "data"
   ]
  },
  {
   "cell_type": "code",
   "execution_count": 38,
   "id": "dcdbd9ef",
   "metadata": {},
   "outputs": [
    {
     "data": {
      "text/plain": [
       "'{\"name\": \"Bob\", \"age\": 12, \"children\": null}'"
      ]
     },
     "execution_count": 38,
     "metadata": {},
     "output_type": "execute_result"
    }
   ],
   "source": [
    "# we can convert python dict to JSON string using \"dumps\" method\n",
    "import json\n",
    "person_dict = {\"name\": \"Bob\",\n",
    "              \"age\": 12,\n",
    "              \"children\": None}\n",
    "\n",
    "person_json = json.dumps(person_dict)\n",
    "person_json"
   ]
  },
  {
   "cell_type": "code",
   "execution_count": 39,
   "id": "f181479d",
   "metadata": {},
   "outputs": [],
   "source": [
    "# in order to write JSON to a file we can use \"dump\" method\n",
    "import json\n",
    "\n",
    "person_dict = {\"name\": \"Bob\",\n",
    "              \"languages\": [\"English\", \"French\"],\n",
    "              \"married\": True,\n",
    "              \"age\": 32\n",
    "              }\n",
    "\n",
    "with open(\"person.txt\", \"w\") as json_file:\n",
    "    json.dump(person_dict, json_file)\n",
    "    \n"
   ]
  },
  {
   "cell_type": "code",
   "execution_count": 40,
   "id": "48cce012",
   "metadata": {},
   "outputs": [
    {
     "name": "stdout",
     "output_type": "stream",
     "text": [
      "Numpy Arrays and Vectorized Computations.ipynb\r\n",
      "person.json\r\n",
      "person.txt\r\n"
     ]
    }
   ],
   "source": [
    "# we've created a new \"person.txt\" file in our filesystem\n",
    "ls"
   ]
  },
  {
   "cell_type": "code",
   "execution_count": 42,
   "id": "2c52bca8",
   "metadata": {},
   "outputs": [
    {
     "name": "stdout",
     "output_type": "stream",
     "text": [
      "{\n",
      "    \"languages\": \"English\",\n",
      "    \"name\": \"Bob\",\n",
      "    \"numbers\": [\n",
      "        2,\n",
      "        1.6,\n",
      "        null\n",
      "    ]\n",
      "}\n"
     ]
    }
   ],
   "source": [
    "# Python pretty print JSON \n",
    "import json\n",
    "\n",
    "person_string = '{\"name\": \"Bob\", \"languages\": \"English\", \"numbers\": [2, 1.6, null]}'\n",
    "\n",
    "# getting python dict object\n",
    "person_dictinary = json.loads(person_string)\n",
    "\n",
    "# pretty printing JSON string back \n",
    "print(json.dumps(person_dictinary, indent=4, sort_keys=True))"
   ]
  },
  {
   "cell_type": "markdown",
   "id": "3449829e",
   "metadata": {},
   "source": [
    "# Data Types for ndarrays"
   ]
  },
  {
   "cell_type": "code",
   "execution_count": 43,
   "id": "901a023a",
   "metadata": {},
   "outputs": [
    {
     "name": "stdout",
     "output_type": "stream",
     "text": [
      "float64\n",
      "int32\n"
     ]
    }
   ],
   "source": [
    "# data type or dtype is a special object containing the information (metadata) the ndarray needs to interpret chunk of memory\n",
    "import numpy as np\n",
    "arr1 = np.array([1,2,3], dtype=np.float64)\n",
    "arr2 = np.array([1,2,3], dtype=np.int32)\n",
    "\n",
    "print(arr1.dtype)\n",
    "print(arr2.dtype)"
   ]
  },
  {
   "cell_type": "code",
   "execution_count": 44,
   "id": "69ca0714",
   "metadata": {},
   "outputs": [
    {
     "name": "stdout",
     "output_type": "stream",
     "text": [
      "int64\n",
      "float64\n"
     ]
    }
   ],
   "source": [
    "# type conversion\n",
    "arr = np.array([1,2,3,4,5])\n",
    "print(arr.dtype)\n",
    "\n",
    "# we'll convert into float \n",
    "floating_arr = arr.astype(np.float64)\n",
    "print(floating_arr.dtype)"
   ]
  },
  {
   "cell_type": "markdown",
   "id": "30102358",
   "metadata": {},
   "source": [
    "Liczby całkowite ze znakiem a bez znaku:\n",
    " - Liczby całkowite ze znakiem: Mogą przechowywać zarówno liczby dodatnie, jak i ujemne (np. int8 może przechowywać wartości od -128 do 127).\n",
    " - Liczby całkowite bez znaku: Mogą przechowywać tylko liczby nieujemne (np. uint8 może przechowywać wartości od 0 do 255)."
   ]
  },
  {
   "cell_type": "code",
   "execution_count": 50,
   "id": "96e988e7",
   "metadata": {},
   "outputs": [
    {
     "name": "stdout",
     "output_type": "stream",
     "text": [
      "[ 3.7 -1.2 -2.6  0.5 12.9 10.1]\n",
      "[ 3 -1 -2  0 12 10]\n",
      "int32\n"
     ]
    }
   ],
   "source": [
    "# In this example, integers were cast to floating point\n",
    "# If I cast some floating-point numbers to be of integer data type, the decimal part will be truncated\n",
    "\n",
    "arr = np.array([3.7, -1.2, -2.6, 0.5, 12.9, 10.1])\n",
    "print(arr)\n",
    "arr = arr.astype(np.int32)\n",
    "print(arr)\n",
    "print(arr.dtype)"
   ]
  },
  {
   "cell_type": "code",
   "execution_count": 54,
   "id": "e49f1ad0",
   "metadata": {},
   "outputs": [
    {
     "name": "stdout",
     "output_type": "stream",
     "text": [
      "|S4\n"
     ]
    }
   ],
   "source": [
    "# when we have an array of strings representing numbers, we can use astype to convert them to numeric form\n",
    "numeric_strings = np.array([\"1.25\", \"-9.6\", \"42\"], dtype=np.string_)\n",
    "print(numeric_strings.dtype)"
   ]
  },
  {
   "cell_type": "code",
   "execution_count": 57,
   "id": "9339d48a",
   "metadata": {},
   "outputs": [
    {
     "data": {
      "text/plain": [
       "array([ 1.25, -9.6 , 42.  ])"
      ]
     },
     "execution_count": 57,
     "metadata": {},
     "output_type": "execute_result"
    }
   ],
   "source": [
    "numeric_strings.astype(np.float64) #If casting were to fail for some reason (like a string that cannot be converted to float64), a ValueError will be raised"
   ]
  },
  {
   "cell_type": "code",
   "execution_count": 59,
   "id": "25b9830f",
   "metadata": {},
   "outputs": [
    {
     "name": "stdout",
     "output_type": "stream",
     "text": [
      "float64\n"
     ]
    }
   ],
   "source": [
    "# naturally, we could also use another \"dtype\" attribute\n",
    "int_array = np.arange(10)\n",
    "calibers = np.array([.22, .270, .357, .380, .44, .50], dtype=np.float64)\n",
    "\n",
    "int_array = int_array.astype(calibers.dtype)\n",
    "print(int_array.dtype)"
   ]
  },
  {
   "cell_type": "code",
   "execution_count": 60,
   "id": "ec1f4308",
   "metadata": {},
   "outputs": [
    {
     "data": {
      "text/plain": [
       "array([0, 0, 0, 0, 0, 0, 0, 0], dtype=uint32)"
      ]
     },
     "execution_count": 60,
     "metadata": {},
     "output_type": "execute_result"
    }
   ],
   "source": [
    "# There are shorthand type code strings you can also use to refer to a dtype\n",
    "zeros_uint32 = np.zeros(8, dtype=\"u4\")\n",
    "zeros_uint32"
   ]
  },
  {
   "cell_type": "markdown",
   "id": "96ae414a",
   "metadata": {},
   "source": [
    "# Arthmetic with Numpy arrays"
   ]
  },
  {
   "cell_type": "code",
   "execution_count": 62,
   "id": "ddfebbed",
   "metadata": {},
   "outputs": [
    {
     "data": {
      "text/plain": [
       "array([[1., 2., 3.],\n",
       "       [4., 5., 6.]])"
      ]
     },
     "execution_count": 62,
     "metadata": {},
     "output_type": "execute_result"
    }
   ],
   "source": [
    "# arrays allow us to express batch operations on data without writing any for loops \n",
    "# NumPy users call this vectorization\n",
    "arr = np.array([[1., 2., 3.], [4.,5.,6.]])\n",
    "arr"
   ]
  },
  {
   "cell_type": "code",
   "execution_count": 63,
   "id": "0a06245e",
   "metadata": {},
   "outputs": [
    {
     "data": {
      "text/plain": [
       "array([[ 1.,  4.,  9.],\n",
       "       [16., 25., 36.]])"
      ]
     },
     "execution_count": 63,
     "metadata": {},
     "output_type": "execute_result"
    }
   ],
   "source": [
    "arr * arr"
   ]
  },
  {
   "cell_type": "code",
   "execution_count": 64,
   "id": "808f28f2",
   "metadata": {},
   "outputs": [
    {
     "data": {
      "text/plain": [
       "array([[0., 0., 0.],\n",
       "       [0., 0., 0.]])"
      ]
     },
     "execution_count": 64,
     "metadata": {},
     "output_type": "execute_result"
    }
   ],
   "source": [
    "arr - arr"
   ]
  },
  {
   "cell_type": "code",
   "execution_count": 65,
   "id": "8d86ad95",
   "metadata": {},
   "outputs": [
    {
     "data": {
      "text/plain": [
       "array([[1.        , 0.5       , 0.33333333],\n",
       "       [0.25      , 0.2       , 0.16666667]])"
      ]
     },
     "execution_count": 65,
     "metadata": {},
     "output_type": "execute_result"
    }
   ],
   "source": [
    "# arthmetic operations with scalars \n",
    "1/arr"
   ]
  },
  {
   "cell_type": "code",
   "execution_count": 67,
   "id": "a4e286be",
   "metadata": {},
   "outputs": [
    {
     "name": "stdout",
     "output_type": "stream",
     "text": [
      "[[ 0.  4.  1.]\n",
      " [ 7.  2. 12.]]\n"
     ]
    },
    {
     "data": {
      "text/plain": [
       "array([[False,  True, False],\n",
       "       [ True, False,  True]])"
      ]
     },
     "execution_count": 67,
     "metadata": {},
     "output_type": "execute_result"
    }
   ],
   "source": [
    "# comparisons between arrays of the same size yield Boolean arrays\n",
    "arr2 = np.array([[0., 4., 1.], [7., 2., 12.]])\n",
    "print(arr2)\n",
    "\n",
    "arr2 > arr\n",
    "\n"
   ]
  },
  {
   "cell_type": "code",
   "execution_count": 69,
   "id": "02001c9f",
   "metadata": {},
   "outputs": [],
   "source": [
    "# Evaluating operations between differently sized arrays is called broadcasting and will be discussed later"
   ]
  },
  {
   "cell_type": "markdown",
   "id": "76e8856c",
   "metadata": {},
   "source": [
    "## Basic Indexing and Slicing"
   ]
  },
  {
   "cell_type": "markdown",
   "id": "9806794f",
   "metadata": {},
   "source": [
    "An important first distinction from Python's built-in lists is that array slices are views on the original array. This means that the data is not copied, and any modifications to the view will be reflected in the source array."
   ]
  },
  {
   "cell_type": "code",
   "execution_count": null,
   "id": "ee8f317f",
   "metadata": {},
   "outputs": [],
   "source": []
  }
 ],
 "metadata": {
  "kernelspec": {
   "display_name": "Python 3 (ipykernel)",
   "language": "python",
   "name": "python3"
  },
  "language_info": {
   "codemirror_mode": {
    "name": "ipython",
    "version": 3
   },
   "file_extension": ".py",
   "mimetype": "text/x-python",
   "name": "python",
   "nbconvert_exporter": "python",
   "pygments_lexer": "ipython3",
   "version": "3.11.7"
  }
 },
 "nbformat": 4,
 "nbformat_minor": 5
}
