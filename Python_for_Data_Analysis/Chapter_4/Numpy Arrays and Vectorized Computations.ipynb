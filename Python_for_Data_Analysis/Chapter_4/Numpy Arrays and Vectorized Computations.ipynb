{
 "cells": [
  {
   "cell_type": "markdown",
   "id": "4437bd16",
   "metadata": {},
   "source": [
    "*In Numpy we'll find:*\n",
    "- ndarray, an efficient multidimentional array providing fast array-oriented arithmetic operations and flexible broadcasting capabilities\n",
    "- Mathematical functions for fast operations on entire arrays of data without having to write loops\n",
    "- Tools for reading/writing array data to disk and working with memory-mapped files\n",
    "- Linear Algebra, random number generation, and Fourier transform capabilities\n",
    "- A C API for connecting Numpy with libraries written in C, C++, or Fortran "
   ]
  },
  {
   "cell_type": "code",
   "execution_count": 2,
   "id": "6e18761c",
   "metadata": {},
   "outputs": [
    {
     "name": "stdout",
     "output_type": "stream",
     "text": [
      "Python list size: 104 bytes\n",
      "Memory per element (Python list): 28 bytes\n",
      "NumPy array size: 40 bytes\n"
     ]
    }
   ],
   "source": [
    "import numpy as np\n",
    "import sys\n",
    "\n",
    "# Python list\n",
    "py_list = [1, 2, 3, 4, 5, 6]\n",
    "print(f\"Python list size: {sys.getsizeof(py_list)} bytes\")  # Memory used by the list object\n",
    "print(f\"Memory per element (Python list): {sys.getsizeof(py_list[0])} bytes\")  # Memory per element\n",
    "\n",
    "# NumPy array\n",
    "np_array = np.array([1, 2, 3, 4, 5])\n",
    "print(f\"NumPy array size: {np_array.nbytes} bytes\")  # Total memory used by the array\n"
   ]
  },
  {
   "cell_type": "markdown",
   "id": "635ff139",
   "metadata": {},
   "source": [
    "### The numpy ndarray"
   ]
  },
  {
   "cell_type": "code",
   "execution_count": 3,
   "id": "e151923d",
   "metadata": {},
   "outputs": [
    {
     "data": {
      "text/plain": [
       "array([[ 1.5, -0.1,  3. ],\n",
       "       [ 0. , -3. ,  6.5]])"
      ]
     },
     "execution_count": 3,
     "metadata": {},
     "output_type": "execute_result"
    }
   ],
   "source": [
    "import numpy as np\n",
    "data = np.array([[1.5, -0.1, 3], [0, -3, 6.5]])\n",
    "data"
   ]
  },
  {
   "cell_type": "code",
   "execution_count": 5,
   "id": "d028001f",
   "metadata": {},
   "outputs": [
    {
     "data": {
      "text/plain": [
       "array([[ 15.,  -1.,  30.],\n",
       "       [  0., -30.,  65.]])"
      ]
     },
     "execution_count": 5,
     "metadata": {},
     "output_type": "execute_result"
    }
   ],
   "source": [
    "#scalar multiplication \n",
    "data * 10"
   ]
  },
  {
   "cell_type": "code",
   "execution_count": 6,
   "id": "fa1aba5d",
   "metadata": {},
   "outputs": [
    {
     "data": {
      "text/plain": [
       "array([[ 3. , -0.2,  6. ],\n",
       "       [ 0. , -6. , 13. ]])"
      ]
     },
     "execution_count": 6,
     "metadata": {},
     "output_type": "execute_result"
    }
   ],
   "source": [
    "#vectorized addition\n",
    "data + data"
   ]
  },
  {
   "cell_type": "code",
   "execution_count": 9,
   "id": "c31b287d",
   "metadata": {},
   "outputs": [
    {
     "data": {
      "text/plain": [
       "(2, 3)"
      ]
     },
     "execution_count": 9,
     "metadata": {},
     "output_type": "execute_result"
    }
   ],
   "source": [
    "# every array has a \"shape\", which is a tuple indicating the size of each dimention\n",
    "data.shape"
   ]
  },
  {
   "cell_type": "code",
   "execution_count": 11,
   "id": "c8d90ea1",
   "metadata": {},
   "outputs": [
    {
     "data": {
      "text/plain": [
       "dtype('float64')"
      ]
     },
     "execution_count": 11,
     "metadata": {},
     "output_type": "execute_result"
    }
   ],
   "source": [
    "# numpy arrays are homegenous (of the same type) -> \"dtype\" helps us chech that type\n",
    "data.dtype"
   ]
  },
  {
   "cell_type": "code",
   "execution_count": 12,
   "id": "272a888d",
   "metadata": {},
   "outputs": [
    {
     "data": {
      "text/plain": [
       "array([6. , 7.5, 8. , 0. , 1. ])"
      ]
     },
     "execution_count": 12,
     "metadata": {},
     "output_type": "execute_result"
    }
   ],
   "source": [
    "# creating ndarray\n",
    "data1 = [6, 7.5, 8, 0, 1]\n",
    "arr1 = np.array(data1)\n",
    "arr1"
   ]
  },
  {
   "cell_type": "code",
   "execution_count": 13,
   "id": "30de73ec",
   "metadata": {},
   "outputs": [
    {
     "data": {
      "text/plain": [
       "array([[1, 2, 3, 4],\n",
       "       [5, 6, 7, 8]])"
      ]
     },
     "execution_count": 13,
     "metadata": {},
     "output_type": "execute_result"
    }
   ],
   "source": [
    "# nested sequences, like a list of equal-length lists, will be converted into a multidimensional array\n",
    "data2 = [[1, 2, 3, 4], [5, 6, 7, 8]]\n",
    "arr2 = np.array(data2)\n",
    "arr2"
   ]
  },
  {
   "cell_type": "code",
   "execution_count": 15,
   "id": "b7fc040f",
   "metadata": {},
   "outputs": [
    {
     "name": "stdout",
     "output_type": "stream",
     "text": [
      "Number of dimentions in our array: 2\n",
      "Tuple portraying shape of our array:  (2, 4)\n"
     ]
    }
   ],
   "source": [
    "# naturally, since we have created numpy object from a list of lists, our array will have two dimentions.\n",
    "# Let's check that with \"ndim\"\n",
    "print(f\"Number of dimentions in our array: {arr2.ndim}\")\n",
    "print(f\"Tuple portraying shape of our array:  {arr2.shape}\")"
   ]
  },
  {
   "cell_type": "markdown",
   "id": "37c864ef",
   "metadata": {},
   "source": [
    "Unless explicitly specified, numpy.array tries to infer a good data type for the array that it creates. The data type is stored in a special dtype metadata object."
   ]
  },
  {
   "cell_type": "code",
   "execution_count": 18,
   "id": "9b0e5c96",
   "metadata": {},
   "outputs": [
    {
     "name": "stdout",
     "output_type": "stream",
     "text": [
      "float64\n",
      "int64\n"
     ]
    }
   ],
   "source": [
    "print(arr1.dtype)\n",
    "print(arr2.dtype)"
   ]
  },
  {
   "cell_type": "code",
   "execution_count": 19,
   "id": "338fc5e9",
   "metadata": {},
   "outputs": [
    {
     "data": {
      "text/plain": [
       "array([0., 0., 0., 0., 0., 0., 0., 0., 0., 0.])"
      ]
     },
     "execution_count": 19,
     "metadata": {},
     "output_type": "execute_result"
    }
   ],
   "source": [
    "# in addition to numpy.array there are other functions for creating new arrays\n",
    "np.zeros(10)"
   ]
  },
  {
   "cell_type": "code",
   "execution_count": 20,
   "id": "73be1cdf",
   "metadata": {},
   "outputs": [
    {
     "data": {
      "text/plain": [
       "array([[0., 0., 0., 0., 0., 0.],\n",
       "       [0., 0., 0., 0., 0., 0.],\n",
       "       [0., 0., 0., 0., 0., 0.]])"
      ]
     },
     "execution_count": 20,
     "metadata": {},
     "output_type": "execute_result"
    }
   ],
   "source": [
    "np.zeros((3,6))"
   ]
  },
  {
   "cell_type": "code",
   "execution_count": 22,
   "id": "0f127310",
   "metadata": {},
   "outputs": [
    {
     "data": {
      "text/plain": [
       "array([[[0., 0.],\n",
       "        [0., 0.],\n",
       "        [0., 0.]],\n",
       "\n",
       "       [[0., 0.],\n",
       "        [0., 0.],\n",
       "        [0., 0.]]])"
      ]
     },
     "execution_count": 22,
     "metadata": {},
     "output_type": "execute_result"
    }
   ],
   "source": [
    "?np.empty\n",
    "np.empty((2,3,2))"
   ]
  },
  {
   "cell_type": "markdown",
   "id": "ece7837f",
   "metadata": {},
   "source": [
    "It’s not safe to assume that numpy.empty will return an array of all zeros. This function returns uninitialized memory and thus may contain nonzero \"garbage\" values. You should use this function only if you intend to populate the new array with data."
   ]
  },
  {
   "cell_type": "code",
   "execution_count": 26,
   "id": "5aad4326",
   "metadata": {},
   "outputs": [
    {
     "data": {
      "text/plain": [
       "array([ 0,  1,  2,  3,  4,  5,  6,  7,  8,  9, 10, 11, 12, 13, 14])"
      ]
     },
     "execution_count": 26,
     "metadata": {},
     "output_type": "execute_result"
    }
   ],
   "source": [
    "# numpy.arange is an array-valued version of the python range function\n",
    "np.arange(15)"
   ]
  },
  {
   "cell_type": "markdown",
   "id": "2ce36cfe",
   "metadata": {},
   "source": [
    "## Working with JSON"
   ]
  },
  {
   "cell_type": "code",
   "execution_count": 27,
   "id": "ed816325",
   "metadata": {},
   "outputs": [],
   "source": [
    "import json"
   ]
  },
  {
   "cell_type": "code",
   "execution_count": 28,
   "id": "d9c6385a",
   "metadata": {},
   "outputs": [],
   "source": [
    "person = '{\"name\": \"Alice\", \"Languages\": [\"english\", \"french\"]}'"
   ]
  },
  {
   "cell_type": "code",
   "execution_count": 30,
   "id": "d3d57f5f",
   "metadata": {},
   "outputs": [],
   "source": [
    "person_dict = json.loads(person)"
   ]
  },
  {
   "cell_type": "code",
   "execution_count": 31,
   "id": "9f1c25c8",
   "metadata": {},
   "outputs": [
    {
     "data": {
      "text/plain": [
       "{'name': 'Alice', 'Languages': ['english', 'french']}"
      ]
     },
     "execution_count": 31,
     "metadata": {},
     "output_type": "execute_result"
    }
   ],
   "source": [
    "person_dict"
   ]
  },
  {
   "cell_type": "code",
   "execution_count": 37,
   "id": "5d4c10fd",
   "metadata": {},
   "outputs": [
    {
     "data": {
      "text/plain": [
       "{'name': 'Alice', 'languages': ['english', 'french']}"
      ]
     },
     "execution_count": 37,
     "metadata": {},
     "output_type": "execute_result"
    }
   ],
   "source": [
    "# we can use \"load\" function in order to read json from existing file\n",
    "with open('/Users/dorotamisztal-poleszczuk/Desktop/Michał chwilowy/Books/Python_for_Data_Analysis/Chapter_4/person.json', 'r') as f:\n",
    "    data = json.load(f)\n",
    "\n",
    "data"
   ]
  },
  {
   "cell_type": "code",
   "execution_count": 38,
   "id": "2acc304a",
   "metadata": {},
   "outputs": [
    {
     "data": {
      "text/plain": [
       "'{\"name\": \"Bob\", \"age\": 12, \"children\": null}'"
      ]
     },
     "execution_count": 38,
     "metadata": {},
     "output_type": "execute_result"
    }
   ],
   "source": [
    "# we can convert python dict to JSON string using \"dumps\" method\n",
    "import json\n",
    "person_dict = {\"name\": \"Bob\",\n",
    "              \"age\": 12,\n",
    "              \"children\": None}\n",
    "\n",
    "person_json = json.dumps(person_dict)\n",
    "person_json"
   ]
  },
  {
   "cell_type": "code",
   "execution_count": 39,
   "id": "8bfd01c8",
   "metadata": {},
   "outputs": [],
   "source": [
    "# in order to write JSON to a file we can use \"dump\" method\n",
    "import json\n",
    "\n",
    "person_dict = {\"name\": \"Bob\",\n",
    "              \"languages\": [\"English\", \"French\"],\n",
    "              \"married\": True,\n",
    "              \"age\": 32\n",
    "              }\n",
    "\n",
    "with open(\"person.txt\", \"w\") as json_file:\n",
    "    json.dump(person_dict, json_file)\n",
    "    \n"
   ]
  },
  {
   "cell_type": "code",
   "execution_count": 40,
   "id": "25bb1a70",
   "metadata": {},
   "outputs": [
    {
     "name": "stdout",
     "output_type": "stream",
     "text": [
      "Numpy Arrays and Vectorized Computations.ipynb\r\n",
      "person.json\r\n",
      "person.txt\r\n"
     ]
    }
   ],
   "source": [
    "# we've created a new \"person.txt\" file in our filesystem\n",
    "ls"
   ]
  },
  {
   "cell_type": "code",
   "execution_count": 42,
   "id": "49fe5e3c",
   "metadata": {},
   "outputs": [
    {
     "name": "stdout",
     "output_type": "stream",
     "text": [
      "{\n",
      "    \"languages\": \"English\",\n",
      "    \"name\": \"Bob\",\n",
      "    \"numbers\": [\n",
      "        2,\n",
      "        1.6,\n",
      "        null\n",
      "    ]\n",
      "}\n"
     ]
    }
   ],
   "source": [
    "# Python pretty print JSON \n",
    "import json\n",
    "\n",
    "person_string = '{\"name\": \"Bob\", \"languages\": \"English\", \"numbers\": [2, 1.6, null]}'\n",
    "\n",
    "# getting python dict object\n",
    "person_dictinary = json.loads(person_string)\n",
    "\n",
    "# pretty printing JSON string back \n",
    "print(json.dumps(person_dictinary, indent=4, sort_keys=True))"
   ]
  },
  {
   "cell_type": "markdown",
   "id": "843dd2ed",
   "metadata": {},
   "source": [
    "# Data Types for ndarrays"
   ]
  },
  {
   "cell_type": "code",
   "execution_count": 43,
   "id": "d5781573",
   "metadata": {},
   "outputs": [
    {
     "name": "stdout",
     "output_type": "stream",
     "text": [
      "float64\n",
      "int32\n"
     ]
    }
   ],
   "source": [
    "# data type or dtype is a special object containing the information (metadata) the ndarray needs to interpret chunk of memory\n",
    "import numpy as np\n",
    "arr1 = np.array([1,2,3], dtype=np.float64)\n",
    "arr2 = np.array([1,2,3], dtype=np.int32)\n",
    "\n",
    "print(arr1.dtype)\n",
    "print(arr2.dtype)"
   ]
  },
  {
   "cell_type": "code",
   "execution_count": 44,
   "id": "89698259",
   "metadata": {},
   "outputs": [
    {
     "name": "stdout",
     "output_type": "stream",
     "text": [
      "int64\n",
      "float64\n"
     ]
    }
   ],
   "source": [
    "# type conversion\n",
    "arr = np.array([1,2,3,4,5])\n",
    "print(arr.dtype)\n",
    "\n",
    "# we'll convert into float \n",
    "floating_arr = arr.astype(np.float64)\n",
    "print(floating_arr.dtype)"
   ]
  },
  {
   "cell_type": "markdown",
   "id": "fc9c35c6",
   "metadata": {},
   "source": [
    "Liczby całkowite ze znakiem a bez znaku:\n",
    " - Liczby całkowite ze znakiem: Mogą przechowywać zarówno liczby dodatnie, jak i ujemne (np. int8 może przechowywać wartości od -128 do 127).\n",
    " - Liczby całkowite bez znaku: Mogą przechowywać tylko liczby nieujemne (np. uint8 może przechowywać wartości od 0 do 255)."
   ]
  },
  {
   "cell_type": "code",
   "execution_count": 50,
   "id": "56c51152",
   "metadata": {},
   "outputs": [
    {
     "name": "stdout",
     "output_type": "stream",
     "text": [
      "[ 3.7 -1.2 -2.6  0.5 12.9 10.1]\n",
      "[ 3 -1 -2  0 12 10]\n",
      "int32\n"
     ]
    }
   ],
   "source": [
    "# In this example, integers were cast to floating point\n",
    "# If I cast some floating-point numbers to be of integer data type, the decimal part will be truncated\n",
    "\n",
    "arr = np.array([3.7, -1.2, -2.6, 0.5, 12.9, 10.1])\n",
    "print(arr)\n",
    "arr = arr.astype(np.int32)\n",
    "print(arr)\n",
    "print(arr.dtype)"
   ]
  },
  {
   "cell_type": "code",
   "execution_count": 54,
   "id": "cbd37dd6",
   "metadata": {},
   "outputs": [
    {
     "name": "stdout",
     "output_type": "stream",
     "text": [
      "|S4\n"
     ]
    }
   ],
   "source": [
    "# when we have an array of strings representing numbers, we can use astype to convert them to numeric form\n",
    "numeric_strings = np.array([\"1.25\", \"-9.6\", \"42\"], dtype=np.string_)\n",
    "print(numeric_strings.dtype)"
   ]
  },
  {
   "cell_type": "code",
   "execution_count": 57,
   "id": "7db1445b",
   "metadata": {},
   "outputs": [
    {
     "data": {
      "text/plain": [
       "array([ 1.25, -9.6 , 42.  ])"
      ]
     },
     "execution_count": 57,
     "metadata": {},
     "output_type": "execute_result"
    }
   ],
   "source": [
    "numeric_strings.astype(np.float64) #If casting were to fail for some reason (like a string that cannot be converted to float64), a ValueError will be raised"
   ]
  },
  {
   "cell_type": "code",
   "execution_count": 59,
   "id": "969e361e",
   "metadata": {},
   "outputs": [
    {
     "name": "stdout",
     "output_type": "stream",
     "text": [
      "float64\n"
     ]
    }
   ],
   "source": [
    "# naturally, we could also use another \"dtype\" attribute\n",
    "int_array = np.arange(10)\n",
    "calibers = np.array([.22, .270, .357, .380, .44, .50], dtype=np.float64)\n",
    "\n",
    "int_array = int_array.astype(calibers.dtype)\n",
    "print(int_array.dtype)"
   ]
  },
  {
   "cell_type": "code",
   "execution_count": 60,
   "id": "de53e4a2",
   "metadata": {},
   "outputs": [
    {
     "data": {
      "text/plain": [
       "array([0, 0, 0, 0, 0, 0, 0, 0], dtype=uint32)"
      ]
     },
     "execution_count": 60,
     "metadata": {},
     "output_type": "execute_result"
    }
   ],
   "source": [
    "# There are shorthand type code strings you can also use to refer to a dtype\n",
    "zeros_uint32 = np.zeros(8, dtype=\"u4\")\n",
    "zeros_uint32"
   ]
  },
  {
   "cell_type": "markdown",
   "id": "9b559e5d",
   "metadata": {},
   "source": [
    "# Arthmetic with Numpy arrays"
   ]
  },
  {
   "cell_type": "code",
   "execution_count": 62,
   "id": "a483ee56",
   "metadata": {},
   "outputs": [
    {
     "data": {
      "text/plain": [
       "array([[1., 2., 3.],\n",
       "       [4., 5., 6.]])"
      ]
     },
     "execution_count": 62,
     "metadata": {},
     "output_type": "execute_result"
    }
   ],
   "source": [
    "# arrays allow us to express batch operations on data without writing any for loops \n",
    "# NumPy users call this vectorization\n",
    "arr = np.array([[1., 2., 3.], [4.,5.,6.]])\n",
    "arr"
   ]
  },
  {
   "cell_type": "code",
   "execution_count": 63,
   "id": "b57e4ae0",
   "metadata": {},
   "outputs": [
    {
     "data": {
      "text/plain": [
       "array([[ 1.,  4.,  9.],\n",
       "       [16., 25., 36.]])"
      ]
     },
     "execution_count": 63,
     "metadata": {},
     "output_type": "execute_result"
    }
   ],
   "source": [
    "arr * arr"
   ]
  },
  {
   "cell_type": "code",
   "execution_count": 64,
   "id": "c52e6677",
   "metadata": {},
   "outputs": [
    {
     "data": {
      "text/plain": [
       "array([[0., 0., 0.],\n",
       "       [0., 0., 0.]])"
      ]
     },
     "execution_count": 64,
     "metadata": {},
     "output_type": "execute_result"
    }
   ],
   "source": [
    "arr - arr"
   ]
  },
  {
   "cell_type": "code",
   "execution_count": 65,
   "id": "6e9235b8",
   "metadata": {},
   "outputs": [
    {
     "data": {
      "text/plain": [
       "array([[1.        , 0.5       , 0.33333333],\n",
       "       [0.25      , 0.2       , 0.16666667]])"
      ]
     },
     "execution_count": 65,
     "metadata": {},
     "output_type": "execute_result"
    }
   ],
   "source": [
    "# arthmetic operations with scalars \n",
    "1/arr"
   ]
  },
  {
   "cell_type": "code",
   "execution_count": 67,
   "id": "5cba3d61",
   "metadata": {},
   "outputs": [
    {
     "name": "stdout",
     "output_type": "stream",
     "text": [
      "[[ 0.  4.  1.]\n",
      " [ 7.  2. 12.]]\n"
     ]
    },
    {
     "data": {
      "text/plain": [
       "array([[False,  True, False],\n",
       "       [ True, False,  True]])"
      ]
     },
     "execution_count": 67,
     "metadata": {},
     "output_type": "execute_result"
    }
   ],
   "source": [
    "# comparisons between arrays of the same size yield Boolean arrays\n",
    "arr2 = np.array([[0., 4., 1.], [7., 2., 12.]])\n",
    "print(arr2)\n",
    "\n",
    "arr2 > arr\n",
    "\n"
   ]
  },
  {
   "cell_type": "code",
   "execution_count": 69,
   "id": "610b3b23",
   "metadata": {},
   "outputs": [],
   "source": [
    "# Evaluating operations between differently sized arrays is called broadcasting and will be discussed later"
   ]
  },
  {
   "cell_type": "markdown",
   "id": "5079ecba",
   "metadata": {},
   "source": [
    "## Basic Indexing and Slicing"
   ]
  },
  {
   "cell_type": "markdown",
   "id": "e9e08a65",
   "metadata": {},
   "source": [
    "An important first distinction from Python's built-in lists is that array slices are views on the original array. This means that the data is not copied, and any modifications to the view will be reflected in the source array."
   ]
  },
  {
   "cell_type": "code",
   "execution_count": 70,
   "id": "10cc9695",
   "metadata": {},
   "outputs": [
    {
     "data": {
      "text/plain": [
       "array([5, 6, 7])"
      ]
     },
     "execution_count": 70,
     "metadata": {},
     "output_type": "execute_result"
    }
   ],
   "source": [
    "# An important first distinction from Python's built-in lists is that array slices are views on the original array \n",
    "# This means that the data is not copied, and any modifications to the view will be reflected in the source array\n",
    "arr = np.arange(10)\n",
    "\n",
    "# To visualize this I will take a slice of arr:\n",
    "arr_slice = arr[5:8]\n",
    "arr_slice"
   ]
  },
  {
   "cell_type": "code",
   "execution_count": 73,
   "id": "d2e2a178",
   "metadata": {},
   "outputs": [],
   "source": [
    "# now I will introduce changes to this slice and we will see that those changes will be introduced to original arr\n",
    "arr_slice[0:3] = 42"
   ]
  },
  {
   "cell_type": "code",
   "execution_count": 76,
   "id": "81790508",
   "metadata": {},
   "outputs": [
    {
     "name": "stdout",
     "output_type": "stream",
     "text": [
      "[42 42 42]\n",
      "[ 0  1  2  3  4 42 42 42  8  9]\n"
     ]
    }
   ],
   "source": [
    "print(arr_slice)\n",
    "print(arr) # this clearly shows that by slicing numpy array we haven't actually made a copy "
   ]
  },
  {
   "cell_type": "code",
   "execution_count": 77,
   "id": "082c10ba",
   "metadata": {},
   "outputs": [],
   "source": [
    "# what is we want an actual copy? We'll need to explicitly copy the array\n",
    "# arr[5:8].copy()"
   ]
  },
  {
   "cell_type": "code",
   "execution_count": 78,
   "id": "869ca5d8",
   "metadata": {},
   "outputs": [],
   "source": [
    "# with higher dimentions, we have more options. In a 2d arr the elements at each index will be 1d arr\n",
    "arr2d = np.array([[1,2,3], [4,5,6], [7,8,9]])"
   ]
  },
  {
   "cell_type": "code",
   "execution_count": 80,
   "id": "042ce05a",
   "metadata": {},
   "outputs": [
    {
     "data": {
      "text/plain": [
       "array([7, 8, 9])"
      ]
     },
     "execution_count": 80,
     "metadata": {},
     "output_type": "execute_result"
    }
   ],
   "source": [
    "# accessing 2d array by int will provide us with appropriate rows\n",
    "arr2d[2]"
   ]
  },
  {
   "cell_type": "code",
   "execution_count": 84,
   "id": "2feb1f27",
   "metadata": {},
   "outputs": [
    {
     "name": "stdout",
     "output_type": "stream",
     "text": [
      "3\n",
      "3\n"
     ]
    }
   ],
   "source": [
    "# individual elements can be accessed recursively, but that is a bit too much work. There's an easier way:\n",
    "print(arr2d[0][2])\n",
    "print(arr2d[0,2]) # as we can see these are equivalent"
   ]
  },
  {
   "cell_type": "code",
   "execution_count": 86,
   "id": "4a92b1b8",
   "metadata": {},
   "outputs": [],
   "source": [
    "'''\n",
    "In multidimensional arrays, if you omit later indices, the returned object will be a \n",
    "lower dimensional ndarray consisting of all the data along the higher dimensions. \n",
    " So in the 2 × 2 × 3 array arr3d:\n",
    "'''\n",
    "arr3d = np.array([[[1,2,3], [4,5,6]], [[7,8,9], [10,11,12]]])"
   ]
  },
  {
   "cell_type": "code",
   "execution_count": 87,
   "id": "34b25300",
   "metadata": {},
   "outputs": [
    {
     "data": {
      "text/plain": [
       "array([[1, 2, 3],\n",
       "       [4, 5, 6]])"
      ]
     },
     "execution_count": 87,
     "metadata": {},
     "output_type": "execute_result"
    }
   ],
   "source": [
    "# arr3d[0] is a 2 x 3 arr -> we access the first block\n",
    "arr3d[0]"
   ]
  },
  {
   "cell_type": "code",
   "execution_count": 89,
   "id": "f717e387",
   "metadata": {},
   "outputs": [
    {
     "data": {
      "text/plain": [
       "array([[[42, 42, 42],\n",
       "        [42, 42, 42]],\n",
       "\n",
       "       [[ 7,  8,  9],\n",
       "        [10, 11, 12]]])"
      ]
     },
     "execution_count": 89,
     "metadata": {},
     "output_type": "execute_result"
    }
   ],
   "source": [
    "# Both scalar values and arrays can be assigned to arr3d[0]\n",
    "old_values = arr3d[0].copy()\n",
    "arr3d[0] = 42 \n",
    "arr3d"
   ]
  },
  {
   "cell_type": "code",
   "execution_count": 90,
   "id": "15cbdd22",
   "metadata": {},
   "outputs": [
    {
     "data": {
      "text/plain": [
       "array([[[ 1,  2,  3],\n",
       "        [ 4,  5,  6]],\n",
       "\n",
       "       [[ 7,  8,  9],\n",
       "        [10, 11, 12]]])"
      ]
     },
     "execution_count": 90,
     "metadata": {},
     "output_type": "execute_result"
    }
   ],
   "source": [
    "arr3d[0] = old_values\n",
    "arr3d"
   ]
  },
  {
   "cell_type": "code",
   "execution_count": 96,
   "id": "6be778e1",
   "metadata": {},
   "outputs": [
    {
     "name": "stdout",
     "output_type": "stream",
     "text": [
      "[7 8 9]\n"
     ]
    },
    {
     "data": {
      "text/plain": [
       "(3,)"
      ]
     },
     "execution_count": 96,
     "metadata": {},
     "output_type": "execute_result"
    }
   ],
   "source": [
    "# similarly, arr3d[1,0] will give us the second block and the first row -> leaving us with 1D array\n",
    "print(arr3d[1,0])\n",
    "arr3d[1,0].shape"
   ]
  },
  {
   "cell_type": "markdown",
   "id": "41d5b6e3",
   "metadata": {},
   "source": [
    "It needs to be stressed that in all of these cases where subsections of the array have been selected, the returned arrays are views.\n",
    "\n",
    "This multidimentional indexing syntax for NumPy arrays WILL NOT WORK with regular python objects. Probably the best example could be a \"list of lists\"."
   ]
  },
  {
   "cell_type": "code",
   "execution_count": 97,
   "id": "125d8bcc",
   "metadata": {},
   "outputs": [
    {
     "data": {
      "text/plain": [
       "array([[1],\n",
       "       [4],\n",
       "       [7]])"
      ]
     },
     "execution_count": 97,
     "metadata": {},
     "output_type": "execute_result"
    }
   ],
   "source": [
    "# a colon by itself means to take the entire axis, so you can slice only higher dimensional axes by doing\n",
    "arr2d[:, :1]"
   ]
  },
  {
   "cell_type": "markdown",
   "id": "7ab425fb",
   "metadata": {},
   "source": [
    "## Boolean Indexing"
   ]
  },
  {
   "cell_type": "code",
   "execution_count": 104,
   "id": "bbb27585",
   "metadata": {},
   "outputs": [
    {
     "name": "stdout",
     "output_type": "stream",
     "text": [
      "Names:  ['Bob' 'Joe' 'Will' 'Bob' 'Will' 'Joe' 'Joe'] \n",
      "\n",
      "Data:  [[  4   7]\n",
      " [  0   2]\n",
      " [ -5   6]\n",
      " [  0   0]\n",
      " [  1   2]\n",
      " [-12  -4]\n",
      " [  3   4]]\n"
     ]
    }
   ],
   "source": [
    "# let's consider an example where we have some data in an array and an array of names with duplicates\n",
    "names = np.array([\"Bob\", \"Joe\", \"Will\", \"Bob\", \"Will\", \"Joe\", \"Joe\"])\n",
    "data = np.array([[4, 7], [0, 2], [-5, 6], [0, 0], [1, 2], [-12, -4], [3, 4]])\n",
    "print(\"Names: \", names, \"\\n\")\n",
    "print(\"Data: \", data)"
   ]
  },
  {
   "cell_type": "code",
   "execution_count": 105,
   "id": "cff79f5a",
   "metadata": {},
   "outputs": [
    {
     "data": {
      "text/plain": [
       "array([ True, False, False,  True, False, False, False])"
      ]
     },
     "execution_count": 105,
     "metadata": {},
     "output_type": "execute_result"
    }
   ],
   "source": [
    "# like arthmetic operations, comparisons with arrays are also vectorized. Comparing names with \"Bob\" yield a bool arr\n",
    "names == \"Bob\""
   ]
  },
  {
   "cell_type": "code",
   "execution_count": 107,
   "id": "11daddd2",
   "metadata": {},
   "outputs": [
    {
     "data": {
      "text/plain": [
       "array([[4, 7],\n",
       "       [0, 0]])"
      ]
     },
     "execution_count": 107,
     "metadata": {},
     "output_type": "execute_result"
    }
   ],
   "source": [
    "# now, this boolean array can be passed when indexing \n",
    "data[names == \"Bob\"] #naturally this bool arr has to be the same length as the array axis it's indexing"
   ]
  },
  {
   "cell_type": "code",
   "execution_count": null,
   "id": "1b6a6bb5",
   "metadata": {},
   "outputs": [],
   "source": []
  }
 ],
 "metadata": {
  "kernelspec": {
   "display_name": "Python 3 (ipykernel)",
   "language": "python",
   "name": "python3"
  },
  "language_info": {
   "codemirror_mode": {
    "name": "ipython",
    "version": 3
   },
   "file_extension": ".py",
   "mimetype": "text/x-python",
   "name": "python",
   "nbconvert_exporter": "python",
   "pygments_lexer": "ipython3",
   "version": "3.11.7"
  }
 },
 "nbformat": 4,
 "nbformat_minor": 5
}
