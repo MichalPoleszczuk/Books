{
 "cells": [
  {
   "cell_type": "markdown",
   "metadata": {},
   "source": [
    "# Solutions to end-of-chapter tasks"
   ]
  },
  {
   "cell_type": "markdown",
   "metadata": {},
   "source": [
    "### R 2.1 Give three examples of life-critical software applications"
   ]
  },
  {
   "cell_type": "markdown",
   "metadata": {},
   "source": [
    "1. Air Traffic Control\n",
    "2. Medical Devices Software\n",
    "3. Nuclear Power Plant Control System"
   ]
  },
  {
   "cell_type": "markdown",
   "metadata": {},
   "source": [
    "### R 2.2 Give an example of a software application in which adaptability can mean the difference between a prolonged lifetime of sales and bankruptcy"
   ]
  },
  {
   "cell_type": "markdown",
   "metadata": {},
   "source": [
    "Good example could be any e-commerce platform that needs to adapt to constantly changinging business landscape. An e-commerce platform like Amazon must constanly adapt to chages in user preferences, new technologies and security threats. If it fails, it risks losing consumers to competitors leading to decline in revenues and potentially a bancrupcy."
   ]
  },
  {
   "cell_type": "markdown",
   "metadata": {},
   "source": [
    "### R 2.3 Describe a component from a text-editor GUI and the methods that it encapsulates"
   ]
  },
  {
   "cell_type": "markdown",
   "metadata": {},
   "source": [
    "In the Word like text editor, the text area is a component where users can input and modify text. This component encapsualtes methods such as: insertion, deletion, getting text (when it comes to specified positions) and styling (bold or italic). "
   ]
  },
  {
   "cell_type": "markdown",
   "metadata": {},
   "source": [
    "### R 2.4 Write a Python class, Flower, that has three instance variables of type str,int, and float, that respectively represent the name of the flower, its number of petals, and its price. Your class must include a constructor method that initializes each variable to an appropriate value, and your class should include methods for setting the value of each type, and retrieving the value of each type."
   ]
  },
  {
   "cell_type": "code",
   "execution_count": 4,
   "metadata": {},
   "outputs": [
    {
     "name": "stdout",
     "output_type": "stream",
     "text": [
      "Rose\n",
      "5\n",
      "3.99\n"
     ]
    }
   ],
   "source": [
    "class Flower:\n",
    "    def __init__(self, name: str, petals: int, price: float):\n",
    "        self._name = name\n",
    "        self._petals = petals\n",
    "        self._price = price \n",
    "\n",
    "    #getter methods\n",
    "    def get_name(self):\n",
    "        return self._name\n",
    "    \n",
    "    def get_petals(self):\n",
    "        return self._petals\n",
    "    \n",
    "    def get_price(self):\n",
    "        return self._price\n",
    "    \n",
    "    #setter methods\n",
    "    def set_name(self, name: str):\n",
    "        self._name = name\n",
    "\n",
    "    def set_petals(self, petals: int):\n",
    "        self._petals = petals \n",
    "\n",
    "    def set_price(self, price: float):\n",
    "        self._price = price\n",
    "\n",
    "flower = Flower(\"Rose\", 5, 3.99)\n",
    "print(flower.get_name())  # Output: Rose\n",
    "print(flower.get_petals())  # Output: 5\n",
    "print(flower.get_price())  # Output: 3.99"
   ]
  },
  {
   "cell_type": "markdown",
   "metadata": {},
   "source": [
    "### R 2.5 Use the techniques of Section 1.7 to revise the charge and make payment methods of the CreditCard class to ensure that the caller sends a number as a parameter."
   ]
  },
  {
   "cell_type": "code",
   "execution_count": 12,
   "metadata": {},
   "outputs": [],
   "source": [
    "# Section 1.7 is about Exception Handling\n",
    "\n",
    "# Previously implemented CreditCard class\n",
    "\n",
    "class CreditCard:\n",
    "    '''A consumer credit card'''\n",
    "\n",
    "    def __init__(self, customer, bank, acnt, limit):\n",
    "        '''Create a new credit card instance\n",
    "\n",
    "        The initial balance is zero.\n",
    "\n",
    "        customer the name of the customer (e.g., John Bowman )\n",
    "        bank the name of the bank (e.g., California Savings )\n",
    "        acnt the acount identifier (e.g., 5391 0375 9387 5309 )\n",
    "        limit credit limit (measured in dollars)\n",
    "        '''\n",
    "        self._customer = customer\n",
    "        self._bank = bank\n",
    "        self._account = acnt\n",
    "        self._limit = limit\n",
    "        self._balance = 0\n",
    "\n",
    "    def get_customer(self):\n",
    "        '''Return name of the customer'''\n",
    "        return self._customer\n",
    "\n",
    "    def get_bank(self):\n",
    "        '''Return the bank s name'''\n",
    "        return self._bank\n",
    "\n",
    "    def get_account(self):\n",
    "        '''Return the card identifying number (typically stored as a string)'''\n",
    "        return self._account\n",
    "\n",
    "    def get_limit(self):\n",
    "        '''Return current credit limit'''\n",
    "        return self._limit\n",
    "\n",
    "    def get_balance(self):\n",
    "        '''Return current balance'''\n",
    "        return self._balance\n",
    "\n",
    "    def charge(self, price):\n",
    "        '''Charge given price to the card, assuming sufficient credit limit\n",
    "\n",
    "        Return True if charge was processed; False if charge was denied.\n",
    "        '''\n",
    "\n",
    "        if price + self._balance > self._limit: # if charge would exceed limit,\n",
    "            return False # cannot accept charge\n",
    "        else:\n",
    "            self._balance += price\n",
    "            return True\n",
    "\n",
    "    def make_payment(self, amount):\n",
    "        '''Process customer payment that reduces balance'''\n",
    "        self._balance -= amount \n",
    "\n",
    "# Changes to be implemented \n",
    "    def charge(self, price):\n",
    "        '''Charge given price to the card, assuming sufficient credit limit\n",
    "\n",
    "        Return True if charge was processed; False if charge was denied.\n",
    "        '''\n",
    "        try:\n",
    "            # Ensure the price is a valid number\n",
    "            price = float(price)\n",
    "\n",
    "            # Check if charge would exceed limit\n",
    "            if price + self._balance > self._limit:\n",
    "                return False  # charge denied\n",
    "            else:\n",
    "                self._balance += price\n",
    "                return True  # charge accepted\n",
    "        except ValueError:\n",
    "            # Handle the case where the price is not a number\n",
    "            print(f\"Invalid input: {price} is not a valid number.\")\n",
    "            return False\n",
    "\n",
    "    def make_payment(self, amount):\n",
    "        '''Process customer payment that reduces balance'''\n",
    "        try:\n",
    "            # Ensure the amount is a valid number\n",
    "            amount = float(amount)\n",
    "            self._balance -= amount\n",
    "        except ValueError:\n",
    "            # Handle the case where the amount is not a number\n",
    "            print(f\"Invalid input: {amount} is not a valid number.\")"
   ]
  },
  {
   "cell_type": "markdown",
   "metadata": {},
   "source": [
    "### R 2.6 If the parameter to the make payment method of the CreditCard class were a negative number, that would have the effect of raising the balance on the account. Revise the implementation so that it raises a ValueError if a negative value is sent"
   ]
  },
  {
   "cell_type": "code",
   "execution_count": 6,
   "metadata": {},
   "outputs": [],
   "source": [
    "def make_payment(self, amount):\n",
    "    '''Process customer payment that reduces balance'''\n",
    "    try:\n",
    "        # Ensure the amount is a valid number\n",
    "        amount = float(amount)\n",
    "\n",
    "        # Check if the amount is negative\n",
    "        if amount < 0:\n",
    "            raise ValueError(\"Negative number was sent\")\n",
    "\n",
    "        # Deduct the payment from the balance when payment not negative\n",
    "        self._balance -= amount\n",
    "\n",
    "    except ValueError as e:\n",
    "        # Handle invalid input or negative values\n",
    "        print(e)"
   ]
  },
  {
   "cell_type": "markdown",
   "metadata": {},
   "source": [
    "### R 2.7 The CreditCard class of Section 2.3 initializes the balance of a new account to zero. Modify that class so that a new account can be given a nonzero balance using an optional fifth parameter to the constructor. The four-parameter constructor syntax should continue to produce an account with zero balance."
   ]
  },
  {
   "cell_type": "code",
   "execution_count": 7,
   "metadata": {},
   "outputs": [],
   "source": [
    "class CreditCard:\n",
    "    def __init__(self, customer, bank, acnt, limit, balance=0):\n",
    "        self._customer = customer\n",
    "        self._bank = bank\n",
    "        self._acnt = acnt\n",
    "        self._limit = limit \n",
    "        self._balance = balance "
   ]
  },
  {
   "cell_type": "markdown",
   "metadata": {},
   "source": [
    "### R 2.8 Modify the declaration of the first for loop in the CreditCard tests, from Code Fragment 2.3, so that it will eventually cause exactly one of the three credit cards to go over its credit limit. Which credit card is it?"
   ]
  },
  {
   "cell_type": "code",
   "execution_count": 14,
   "metadata": {},
   "outputs": [
    {
     "name": "stdout",
     "output_type": "stream",
     "text": [
      "Customer = John Bowman\n",
      "Bank = California Savings\n",
      "Account = 5391 0375 9387 5309\n",
      "Limit = 2500\n",
      "Balance = 190.0\n",
      "New balance = 90.0\n",
      "\n",
      "Customer = John Bowman\n",
      "Bank = California Federal\n",
      "Account = 3485 0399 3395 1954\n",
      "Limit = 3500\n",
      "Balance = 380.0\n",
      "New balance = 280.0\n",
      "New balance = 180.0\n",
      "New balance = 80.0\n",
      "\n",
      "Customer = John Bowman\n",
      "Bank = California Finance\n",
      "Account = 5391 0375 9387 5309\n",
      "Limit = 5000\n",
      "Balance = 570.0\n",
      "New balance = 470.0\n",
      "New balance = 370.0\n",
      "New balance = 270.0\n",
      "New balance = 170.0\n",
      "New balance = 70.0\n",
      "\n"
     ]
    }
   ],
   "source": [
    "# CreditCard tests\n",
    "if __name__ == '__main__':\n",
    "    wallet = []\n",
    "    wallet.append(CreditCard('John Bowman', 'California Savings',\n",
    "                             '5391 0375 9387 5309', 2500))\n",
    "    wallet.append(CreditCard('John Bowman', 'California Federal',\n",
    "                             '3485 0399 3395 1954', 3500))\n",
    "    wallet.append(CreditCard('John Bowman', 'California Finance',\n",
    "                             '5391 0375 9387 5309', 5000))\n",
    "\n",
    "    for val in range(1, 20):\n",
    "        wallet[0].charge(1 * val)  # This should exceed the limit for wallet[0] eventually\n",
    "        wallet[1].charge(2 * val)\n",
    "        wallet[2].charge(3 * val)\n",
    "\n",
    "\n",
    "    for c in range(3):\n",
    "        print('Customer =', wallet[c].get_customer())\n",
    "        print('Bank =', wallet[c].get_bank())\n",
    "        print('Account =', wallet[c].get_account())\n",
    "        print('Limit =', wallet[c].get_limit())\n",
    "        print('Balance =', wallet[c].get_balance())\n",
    "        while wallet[c].get_balance() > 100:\n",
    "            wallet[c].make_payment(100)\n",
    "            print('New balance =', wallet[c].get_balance())\n",
    "        print()"
   ]
  },
  {
   "cell_type": "markdown",
   "metadata": {},
   "source": [
    "### R 2.9 Implement the sub method for the Vector class of Section 2.3.3, so that the expression u−v returns a new vector instance representing the difference between two vectors."
   ]
  },
  {
   "cell_type": "code",
   "execution_count": 1,
   "metadata": {},
   "outputs": [],
   "source": [
    "class Vector:\n",
    "    \"\"\"Represent a vector in a multidimensional space.\"\"\"\n",
    "\n",
    "    def __init__(self, d):\n",
    "        \"\"\"Create a d-dimensional vector of zeros.\"\"\"\n",
    "        self.coords = [0] * d\n",
    "\n",
    "    def __len__(self):\n",
    "        \"\"\"Return the dimension of the vector.\"\"\"\n",
    "        return len(self.coords)\n",
    "\n",
    "    def __getitem__(self, j):\n",
    "        \"\"\"Return jth coordinate of vector.\"\"\"\n",
    "        return self.coords[j]\n",
    "\n",
    "    def __setitem__(self, j, val):\n",
    "        \"\"\"Set jth coordinate of vector to given value.\"\"\"\n",
    "        self.coords[j] = val\n",
    "\n",
    "    def __add__(self, other):\n",
    "        \"\"\"Return the sum of two vectors.\"\"\"\n",
    "        if len(self) != len(other):\n",
    "            raise ValueError('dimensions must agree')\n",
    "        result = Vector(len(self))\n",
    "        for j in range(len(self)):\n",
    "            result[j] = self[j] + other[j]\n",
    "        return result\n",
    "\n",
    "    def __sub__(self, other):\n",
    "        \"\"\"Return the difference between two vectors.\"\"\"\n",
    "        if len(self) != len(other):\n",
    "            raise ValueError('dimensions must agree')\n",
    "        result = Vector(len(self))\n",
    "        for j in range(len(self)):\n",
    "            result[j] = self[j] - other[j]\n",
    "        return result\n",
    "\n",
    "    def __eq__(self, other):\n",
    "        \"\"\"Return True if vector has the same coordinates as other.\"\"\"\n",
    "        return self.coords == other.coords\n",
    "\n",
    "    def __ne__(self, other):\n",
    "        \"\"\"Return True if vector differs from other.\"\"\"\n",
    "        return not self == other\n",
    "\n",
    "    def __str__(self):\n",
    "        \"\"\"Produce string representation of vector.\"\"\"\n",
    "        return '<' + str(self.coords)[1:-1] + '>'"
   ]
  },
  {
   "cell_type": "markdown",
   "metadata": {},
   "source": [
    "### R 2.10 Implement the __neg__ method for the Vector class of Section 2.3.3, so that the expression −v returns a new vector instance whose coordinates are all the negated values of the respective coordinates of v."
   ]
  },
  {
   "cell_type": "code",
   "execution_count": 2,
   "metadata": {},
   "outputs": [],
   "source": [
    "# we should implement this method in the body of our class\n",
    "def __neg__(self, other):\n",
    "    '''Return a new Vector with all values negated'''\n",
    "    result = Vector(len(self))\n",
    "    for j in range(len(self)):\n",
    "        result[j] = -self[j]\n",
    "    return result"
   ]
  },
  {
   "cell_type": "markdown",
   "metadata": {},
   "source": [
    "### R 2.11 In Section 2.3.3, we note that our Vector class supports a syntax such as v = u + [5, 3, 10, −2, 1], in which the sum of a vector and list returns a new vector. However, the syntax v = [5, 3, 10, −2, 1] + u is illegal. Explain how the Vector class definition can be revised so that this syntax generates a new vector."
   ]
  },
  {
   "cell_type": "code",
   "execution_count": 3,
   "metadata": {},
   "outputs": [],
   "source": [
    "# in order to solve this we would have to implement __radd__ method so that adding Vector to a list would make sense\n",
    "\n",
    "def __add__(self, other):\n",
    "    \"\"\"Return the sum of two vectors or a vector and a list.\"\"\"\n",
    "    if len(self) != len(other):\n",
    "        raise ValueError('dimensions must agree')\n",
    "    result = Vector(len(self))\n",
    "    for j in range(len(self)):\n",
    "        result[j] = self[j] + other[j]\n",
    "    return result\n",
    "\n",
    "def __radd__(self, other):\n",
    "    \"\"\"Handle the case when the left operand is a list.\"\"\"\n",
    "    # we can reuse the logic from __add__, since addition is commutative\n",
    "    return self.__add__(other)"
   ]
  },
  {
   "cell_type": "markdown",
   "metadata": {},
   "source": [
    "### R 2.12 Implement the mul method for the Vector class of Section 2.3.3, so that the expression v 3 returns a new vector with coordinates that are 3 times the respective coordinates of v."
   ]
  },
  {
   "cell_type": "code",
   "execution_count": 4,
   "metadata": {},
   "outputs": [],
   "source": [
    "def __mul__(self, scalar):\n",
    "    \"\"\"Return a new vector with all coordinates multiplied by the scalar.\"\"\"\n",
    "    result = Vector(len(self))\n",
    "    for j in range(len(self)):\n",
    "        result[j] = self[j] * scalar \n",
    "    return result\n"
   ]
  },
  {
   "cell_type": "markdown",
   "metadata": {},
   "source": [
    "### R 2.13 Exercise R-2.12 asks for an implementation of mul , for the Vector class of Section 2.3.3, to provide support for the syntax v 3. Implement the rmul method, to provide additional support for syntax 3 v."
   ]
  },
  {
   "cell_type": "code",
   "execution_count": 5,
   "metadata": {},
   "outputs": [],
   "source": [
    "def __rmul__(self, scalar):\n",
    "    \"\"\"The goal is to allow scalar multiplication from the left, for example: 3 * v\"\"\"\n",
    "    return self.__mul__(scalar)"
   ]
  },
  {
   "cell_type": "markdown",
   "metadata": {},
   "source": [
    "### R 2.14 Implement the mul method for the Vector class of Section 2.3.3, so that the expression u v returns a scalar that represents the dot product of the vectors, that is, Σdi=1 ui · vi."
   ]
  },
  {
   "cell_type": "code",
   "execution_count": 6,
   "metadata": {},
   "outputs": [],
   "source": [
    "def __mul__(self, other):\n",
    "    \"\"\"Return the dot product of two vectors\"\"\"\n",
    "    if len(self) != len(other):\n",
    "        raise ValueError('dimentions must agree')\n",
    "    result = 0\n",
    "    for j in range(len(self)):\n",
    "        result[j] = self[j] * other[j]\n",
    "    return result"
   ]
  },
  {
   "cell_type": "markdown",
   "metadata": {},
   "source": [
    "### R 2.15 The Vector class of Section 2.3.3 provides a constructor that takes an integer d, and produces a d-dimensional vector with all coordinates equal to 0. Another convenient form for creating a new vector would be to send the constructor a parameter that is some iterable type representing a sequence of numbers, and to create a vector with dimension equal to the length of that sequence and coordinates equal to the sequence values. For example, Vector([4, 7, 5]) would produce a three-dimensional vector with coordinates <4, 7, 5>. Modify the constructor so that either of these forms is acceptable; that is, if a single integer is sent, it produces a vector of that dimension with all zeros, but if a sequence of numbers is provided, it produces a vector with coordinates based on that sequence."
   ]
  },
  {
   "cell_type": "code",
   "execution_count": 7,
   "metadata": {},
   "outputs": [],
   "source": [
    "class Vector:\n",
    "    \"\"\"Represent a vector in multidimentional space\"\"\"\n",
    "\n",
    "    def __init__(self, param):\n",
    "        if isinstance(param, int):\n",
    "            self._coords = [0] * param\n",
    "        else:\n",
    "            self._coords = list(param)\n",
    "    \n",
    "# and so on....."
   ]
  },
  {
   "cell_type": "markdown",
   "metadata": {},
   "source": [
    "### R 2.16 Our Range class, from Section 2.3.5, relies on the formula max(0, (stop − start + step − 1) // step) to compute the number of elements in the range. It is not immediately evident why this formula provides the correct calculation, even if assuming a positive step size. Justify this formula, in your own words "
   ]
  },
  {
   "cell_type": "code",
   "execution_count": 8,
   "metadata": {},
   "outputs": [
    {
     "data": {
      "text/plain": [
       "'\\nThis formula works because it determines how many steps of size step fit between start and stop.\\n\\n    stop - start calculates the distance between the starting value and the stopping value.\\n    Adding step - 1 ensures that we round up if there is a partial step remaining, meaning it accounts for any extra step needed if the range does not end exactly on a multiple of step.\\n    Dividing by step gives the number of steps that fit in the range.\\n    The use of max(0, ...) ensures that the result is never negative, which can happen if the starting value is greater than or equal to the stopping value.\\n\\nThis formula correctly handles all scenarios, ensuring it calculates the number of elements in the range even when the step size does not perfectly divide the interval from start to stop.\\n'"
      ]
     },
     "execution_count": 8,
     "metadata": {},
     "output_type": "execute_result"
    }
   ],
   "source": [
    "# class definition and answer for 2.16 at the bottom \n",
    "\n",
    "class Range:\n",
    "    \"\"\"A class that mimics the built-in range class.\"\"\"\n",
    "\n",
    "    def __init__(self, start, stop=None, step=1):\n",
    "        \"\"\"Initialize a Range instance.\n",
    "\n",
    "        Semantics is similar to the built-in range class.\n",
    "        \"\"\"\n",
    "        if step == 0:\n",
    "            raise ValueError('step cannot be 0')\n",
    "\n",
    "        if stop is None:  # special case of range(n)\n",
    "            start, stop = 0, start  # should be treated as range(0, n)\n",
    "\n",
    "        # Calculate the effective length once\n",
    "        self.length = max(0, (stop - start + step - 1) // step)\n",
    "\n",
    "        # Store the start and step values to support __getitem__\n",
    "        self.start = start\n",
    "        self.step = step\n",
    "\n",
    "    def __len__(self):\n",
    "        \"\"\"Return number of entries in the range.\"\"\"\n",
    "        return self.length\n",
    "\n",
    "    def __getitem__(self, k):\n",
    "        \"\"\"Return entry at index k (using standard interpretation if negative).\"\"\"\n",
    "        if k < 0:\n",
    "            k += len(self)  # attempt to convert negative index to a positive one\n",
    "\n",
    "        if not 0 <= k < self.length:\n",
    "            raise IndexError('index out of range')\n",
    "\n",
    "        return self.start + k * self.step\n",
    "\n",
    "'''\n",
    "This formula works because it determines how many steps of size step fit between start and stop.\n",
    "\n",
    "    stop - start calculates the distance between the starting value and the stopping value.\n",
    "    Adding step - 1 ensures that we round up if there is a partial step remaining, meaning it accounts for any extra step needed if the range does not end exactly on a multiple of step.\n",
    "    Dividing by step gives the number of steps that fit in the range.\n",
    "    The use of max(0, ...) ensures that the result is never negative, which can happen if the starting value is greater than or equal to the stopping value.\n",
    "\n",
    "This formula correctly handles all scenarios, ensuring it calculates the number of elements in the range even when the step size does not perfectly divide the interval from start to stop.\n",
    "'''\n"
   ]
  },
  {
   "cell_type": "markdown",
   "metadata": {},
   "source": [
    "### R 2.18 Give a short fragment of Python code that uses the progression classes from Section 2.4.2 to find the 8th value of a Fibonacci progression that starts with 2 and 2 as its first two values."
   ]
  }
 ],
 "metadata": {
  "kernelspec": {
   "display_name": "base",
   "language": "python",
   "name": "python3"
  },
  "language_info": {
   "codemirror_mode": {
    "name": "ipython",
    "version": 3
   },
   "file_extension": ".py",
   "mimetype": "text/x-python",
   "name": "python",
   "nbconvert_exporter": "python",
   "pygments_lexer": "ipython3",
   "version": "3.9.7"
  },
  "orig_nbformat": 4
 },
 "nbformat": 4,
 "nbformat_minor": 2
}
