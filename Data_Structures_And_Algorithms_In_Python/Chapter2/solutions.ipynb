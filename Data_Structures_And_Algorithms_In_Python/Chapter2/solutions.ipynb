{
 "cells": [
  {
   "cell_type": "markdown",
   "metadata": {},
   "source": [
    "# Solutions to end-of-chapter tasks"
   ]
  },
  {
   "cell_type": "markdown",
   "metadata": {},
   "source": [
    "### R 2.1 Give three examples of life-critical software applications"
   ]
  },
  {
   "cell_type": "markdown",
   "metadata": {},
   "source": [
    "1. Air Traffic Control\n",
    "2. Medical Devices Software\n",
    "3. Nuclear Power Plant Control System"
   ]
  },
  {
   "cell_type": "markdown",
   "metadata": {},
   "source": [
    "### R 2.2 Give an example of a software application in which adaptability can mean the difference between a prolonged lifetime of sales and bankruptcy"
   ]
  },
  {
   "cell_type": "markdown",
   "metadata": {},
   "source": [
    "Good example could be any e-commerce platform that needs to adapt to constantly changinging business landscape. An e-commerce platform like Amazon must constanly adapt to chages in user preferences, new technologies and security threats. If it fails, it risks losing consumers to competitors leading to decline in revenues and potentially a bancrupcy."
   ]
  },
  {
   "cell_type": "markdown",
   "metadata": {},
   "source": [
    "### R 2.3 Describe a component from a text-editor GUI and the methods that it encapsulates"
   ]
  },
  {
   "cell_type": "markdown",
   "metadata": {},
   "source": [
    "In the Word like text editor, the text area is a component where users can input and modify text. This component encapsualtes methods such as: insertion, deletion, getting text (when it comes to specified positions) and styling (bold or italic). "
   ]
  },
  {
   "cell_type": "markdown",
   "metadata": {},
   "source": [
    "### R 2.4 Write a Python class, Flower, that has three instance variables of type str,int, and float, that respectively represent the name of the flower, its number of petals, and its price. Your class must include a constructor method that initializes each variable to an appropriate value, and your class should include methods for setting the value of each type, and retrieving the value of each type."
   ]
  },
  {
   "cell_type": "code",
   "execution_count": 4,
   "metadata": {},
   "outputs": [
    {
     "name": "stdout",
     "output_type": "stream",
     "text": [
      "Rose\n",
      "5\n",
      "3.99\n"
     ]
    }
   ],
   "source": [
    "class Flower:\n",
    "    def __init__(self, name: str, petals: int, price: float):\n",
    "        self._name = name\n",
    "        self._petals = petals\n",
    "        self._price = price \n",
    "\n",
    "    #getter methods\n",
    "    def get_name(self):\n",
    "        return self._name\n",
    "    \n",
    "    def get_petals(self):\n",
    "        return self._petals\n",
    "    \n",
    "    def get_price(self):\n",
    "        return self._price\n",
    "    \n",
    "    #setter methods\n",
    "    def set_name(self, name: str):\n",
    "        self._name = name\n",
    "\n",
    "    def set_petals(self, petals: int):\n",
    "        self._petals = petals \n",
    "\n",
    "    def set_price(self, price: float):\n",
    "        self._price = price\n",
    "\n",
    "flower = Flower(\"Rose\", 5, 3.99)\n",
    "print(flower.get_name())  # Output: Rose\n",
    "print(flower.get_petals())  # Output: 5\n",
    "print(flower.get_price())  # Output: 3.99"
   ]
  },
  {
   "cell_type": "markdown",
   "metadata": {},
   "source": [
    "### R 2.5 Use the techniques of Section 1.7 to revise the charge and make payment methods of the CreditCard class to ensure that the caller sends a number as a parameter."
   ]
  },
  {
   "cell_type": "code",
   "execution_count": 12,
   "metadata": {},
   "outputs": [],
   "source": [
    "# Section 1.7 is about Exception Handling\n",
    "\n",
    "# Previously implemented CreditCard class\n",
    "\n",
    "class CreditCard:\n",
    "    '''A consumer credit card'''\n",
    "\n",
    "    def __init__(self, customer, bank, acnt, limit):\n",
    "        '''Create a new credit card instance\n",
    "\n",
    "        The initial balance is zero.\n",
    "\n",
    "        customer the name of the customer (e.g., John Bowman )\n",
    "        bank the name of the bank (e.g., California Savings )\n",
    "        acnt the acount identifier (e.g., 5391 0375 9387 5309 )\n",
    "        limit credit limit (measured in dollars)\n",
    "        '''\n",
    "        self._customer = customer\n",
    "        self._bank = bank\n",
    "        self._account = acnt\n",
    "        self._limit = limit\n",
    "        self._balance = 0\n",
    "\n",
    "    def get_customer(self):\n",
    "        '''Return name of the customer'''\n",
    "        return self._customer\n",
    "\n",
    "    def get_bank(self):\n",
    "        '''Return the bank s name'''\n",
    "        return self._bank\n",
    "\n",
    "    def get_account(self):\n",
    "        '''Return the card identifying number (typically stored as a string)'''\n",
    "        return self._account\n",
    "\n",
    "    def get_limit(self):\n",
    "        '''Return current credit limit'''\n",
    "        return self._limit\n",
    "\n",
    "    def get_balance(self):\n",
    "        '''Return current balance'''\n",
    "        return self._balance\n",
    "\n",
    "    def charge(self, price):\n",
    "        '''Charge given price to the card, assuming sufficient credit limit\n",
    "\n",
    "        Return True if charge was processed; False if charge was denied.\n",
    "        '''\n",
    "\n",
    "        if price + self._balance > self._limit: # if charge would exceed limit,\n",
    "            return False # cannot accept charge\n",
    "        else:\n",
    "            self._balance += price\n",
    "            return True\n",
    "\n",
    "    def make_payment(self, amount):\n",
    "        '''Process customer payment that reduces balance'''\n",
    "        self._balance -= amount \n",
    "\n",
    "# Changes to be implemented \n",
    "    def charge(self, price):\n",
    "        '''Charge given price to the card, assuming sufficient credit limit\n",
    "\n",
    "        Return True if charge was processed; False if charge was denied.\n",
    "        '''\n",
    "        try:\n",
    "            # Ensure the price is a valid number\n",
    "            price = float(price)\n",
    "\n",
    "            # Check if charge would exceed limit\n",
    "            if price + self._balance > self._limit:\n",
    "                return False  # charge denied\n",
    "            else:\n",
    "                self._balance += price\n",
    "                return True  # charge accepted\n",
    "        except ValueError:\n",
    "            # Handle the case where the price is not a number\n",
    "            print(f\"Invalid input: {price} is not a valid number.\")\n",
    "            return False\n",
    "\n",
    "    def make_payment(self, amount):\n",
    "        '''Process customer payment that reduces balance'''\n",
    "        try:\n",
    "            # Ensure the amount is a valid number\n",
    "            amount = float(amount)\n",
    "            self._balance -= amount\n",
    "        except ValueError:\n",
    "            # Handle the case where the amount is not a number\n",
    "            print(f\"Invalid input: {amount} is not a valid number.\")"
   ]
  },
  {
   "cell_type": "markdown",
   "metadata": {},
   "source": [
    "### R 2.6 If the parameter to the make payment method of the CreditCard class were a negative number, that would have the effect of raising the balance on the account. Revise the implementation so that it raises a ValueError if a negative value is sent"
   ]
  },
  {
   "cell_type": "code",
   "execution_count": 6,
   "metadata": {},
   "outputs": [],
   "source": [
    "def make_payment(self, amount):\n",
    "    '''Process customer payment that reduces balance'''\n",
    "    try:\n",
    "        # Ensure the amount is a valid number\n",
    "        amount = float(amount)\n",
    "\n",
    "        # Check if the amount is negative\n",
    "        if amount < 0:\n",
    "            raise ValueError(\"Negative number was sent\")\n",
    "\n",
    "        # Deduct the payment from the balance when payment not negative\n",
    "        self._balance -= amount\n",
    "\n",
    "    except ValueError as e:\n",
    "        # Handle invalid input or negative values\n",
    "        print(e)"
   ]
  },
  {
   "cell_type": "markdown",
   "metadata": {},
   "source": [
    "### R 2.7 The CreditCard class of Section 2.3 initializes the balance of a new account to zero. Modify that class so that a new account can be given a nonzero balance using an optional fifth parameter to the constructor. The four-parameter constructor syntax should continue to produce an account with zero balance."
   ]
  },
  {
   "cell_type": "code",
   "execution_count": 7,
   "metadata": {},
   "outputs": [],
   "source": [
    "class CreditCard:\n",
    "    def __init__(self, customer, bank, acnt, limit, balance=0):\n",
    "        self._customer = customer\n",
    "        self._bank = bank\n",
    "        self._acnt = acnt\n",
    "        self._limit = limit \n",
    "        self._balance = balance "
   ]
  },
  {
   "cell_type": "markdown",
   "metadata": {},
   "source": [
    "### R 2.8 Modify the declaration of the first for loop in the CreditCard tests, from Code Fragment 2.3, so that it will eventually cause exactly one of the three credit cards to go over its credit limit. Which credit card is it?"
   ]
  },
  {
   "cell_type": "code",
   "execution_count": 14,
   "metadata": {},
   "outputs": [
    {
     "name": "stdout",
     "output_type": "stream",
     "text": [
      "Customer = John Bowman\n",
      "Bank = California Savings\n",
      "Account = 5391 0375 9387 5309\n",
      "Limit = 2500\n",
      "Balance = 190.0\n",
      "New balance = 90.0\n",
      "\n",
      "Customer = John Bowman\n",
      "Bank = California Federal\n",
      "Account = 3485 0399 3395 1954\n",
      "Limit = 3500\n",
      "Balance = 380.0\n",
      "New balance = 280.0\n",
      "New balance = 180.0\n",
      "New balance = 80.0\n",
      "\n",
      "Customer = John Bowman\n",
      "Bank = California Finance\n",
      "Account = 5391 0375 9387 5309\n",
      "Limit = 5000\n",
      "Balance = 570.0\n",
      "New balance = 470.0\n",
      "New balance = 370.0\n",
      "New balance = 270.0\n",
      "New balance = 170.0\n",
      "New balance = 70.0\n",
      "\n"
     ]
    }
   ],
   "source": [
    "# CreditCard tests\n",
    "if __name__ == '__main__':\n",
    "    wallet = []\n",
    "    wallet.append(CreditCard('John Bowman', 'California Savings',\n",
    "                             '5391 0375 9387 5309', 2500))\n",
    "    wallet.append(CreditCard('John Bowman', 'California Federal',\n",
    "                             '3485 0399 3395 1954', 3500))\n",
    "    wallet.append(CreditCard('John Bowman', 'California Finance',\n",
    "                             '5391 0375 9387 5309', 5000))\n",
    "\n",
    "    for val in range(1, 20):\n",
    "        wallet[0].charge(1 * val)  # This should exceed the limit for wallet[0] eventually\n",
    "        wallet[1].charge(2 * val)\n",
    "        wallet[2].charge(3 * val)\n",
    "\n",
    "\n",
    "    for c in range(3):\n",
    "        print('Customer =', wallet[c].get_customer())\n",
    "        print('Bank =', wallet[c].get_bank())\n",
    "        print('Account =', wallet[c].get_account())\n",
    "        print('Limit =', wallet[c].get_limit())\n",
    "        print('Balance =', wallet[c].get_balance())\n",
    "        while wallet[c].get_balance() > 100:\n",
    "            wallet[c].make_payment(100)\n",
    "            print('New balance =', wallet[c].get_balance())\n",
    "        print()"
   ]
  },
  {
   "cell_type": "markdown",
   "metadata": {},
   "source": []
  }
 ],
 "metadata": {
  "kernelspec": {
   "display_name": "base",
   "language": "python",
   "name": "python3"
  },
  "language_info": {
   "codemirror_mode": {
    "name": "ipython",
    "version": 3
   },
   "file_extension": ".py",
   "mimetype": "text/x-python",
   "name": "python",
   "nbconvert_exporter": "python",
   "pygments_lexer": "ipython3",
   "version": "3.9.7"
  },
  "orig_nbformat": 4
 },
 "nbformat": 4,
 "nbformat_minor": 2
}
